{
 "cells": [
  {
   "cell_type": "markdown",
   "id": "75a99207",
   "metadata": {},
   "source": [
    "# Task 0\n",
    "## Exercise completed by Vandana"
   ]
  },
  {
   "cell_type": "markdown",
   "id": "d6bdc67a",
   "metadata": {},
   "source": [
    "# PART 2, SECTION D: Dask DataFrames in code\n",
    "\n",
    "## Task 1. Install and imports"
   ]
  },
  {
   "cell_type": "code",
   "execution_count": 1,
   "id": "d7552ff2",
   "metadata": {},
   "outputs": [],
   "source": [
    "import os\n",
    "import dask\n",
    "from dask.distributed import Client\n",
    "import dask.dataframe as dd\n",
    "import pandas as pd\n",
    "import glob"
   ]
  },
  {
   "cell_type": "code",
   "execution_count": 2,
   "id": "44694ff8",
   "metadata": {},
   "outputs": [
    {
     "name": "stdout",
     "output_type": "stream",
     "text": [
      "2022.5.0\n",
      "1.1.1\n"
     ]
    }
   ],
   "source": [
    "from importlib.metadata import version\n",
    "print(version('dask'))\n",
    "print(version('joblib'))"
   ]
  },
  {
   "cell_type": "markdown",
   "id": "7cec2665",
   "metadata": {},
   "source": [
    "## Task 2. Obtain and read in the data"
   ]
  },
  {
   "cell_type": "markdown",
   "id": "7d3659d0",
   "metadata": {},
   "source": [
    "Filename includes a glob pattern *, so all files in the path matching that pattern will be read into the same Dask DataFrame."
   ]
  },
  {
   "cell_type": "code",
   "execution_count": 3,
   "id": "707181ef",
   "metadata": {},
   "outputs": [
    {
     "data": {
      "text/plain": [
       "'nycflights\\\\*.csv'"
      ]
     },
     "execution_count": 3,
     "metadata": {},
     "output_type": "execute_result"
    }
   ],
   "source": [
    "filename = os.path.join('nycflights','*.csv')\n",
    "filename"
   ]
  },
  {
   "cell_type": "markdown",
   "id": "7c6a7827",
   "metadata": {},
   "source": [
    "`dd.read_csv()` parallelizes the `pandas.read_csv()` function in the following ways:\n",
    "\n",
    "- It supports loading many files at once using globstrings:\n",
    "\n",
    "Pandas .read_csv() cannot do this directly and would need more code to read and merge/ concatenate multiple files."
   ]
  },
  {
   "cell_type": "code",
   "execution_count": 4,
   "id": "caa0fe77",
   "metadata": {},
   "outputs": [],
   "source": [
    "ddf = dd.read_csv(filename)\n",
    "pdf = pd.concat(map(pd.read_csv, glob.glob(filename)))"
   ]
  },
  {
   "cell_type": "markdown",
   "id": "ea7b4942",
   "metadata": {},
   "source": [
    "## Task 3. Lazy operations"
   ]
  },
  {
   "cell_type": "code",
   "execution_count": 5,
   "id": "7fa5bd67",
   "metadata": {
    "scrolled": true
   },
   "outputs": [
    {
     "data": {
      "text/html": [
       "<div><strong>Dask DataFrame Structure:</strong></div>\n",
       "<div>\n",
       "<style scoped>\n",
       "    .dataframe tbody tr th:only-of-type {\n",
       "        vertical-align: middle;\n",
       "    }\n",
       "\n",
       "    .dataframe tbody tr th {\n",
       "        vertical-align: top;\n",
       "    }\n",
       "\n",
       "    .dataframe thead th {\n",
       "        text-align: right;\n",
       "    }\n",
       "</style>\n",
       "<table border=\"1\" class=\"dataframe\">\n",
       "  <thead>\n",
       "    <tr style=\"text-align: right;\">\n",
       "      <th></th>\n",
       "      <th>Year</th>\n",
       "      <th>Month</th>\n",
       "      <th>DayofMonth</th>\n",
       "      <th>DayOfWeek</th>\n",
       "      <th>DepTime</th>\n",
       "      <th>CRSDepTime</th>\n",
       "      <th>ArrTime</th>\n",
       "      <th>CRSArrTime</th>\n",
       "      <th>UniqueCarrier</th>\n",
       "      <th>FlightNum</th>\n",
       "      <th>TailNum</th>\n",
       "      <th>ActualElapsedTime</th>\n",
       "      <th>CRSElapsedTime</th>\n",
       "      <th>AirTime</th>\n",
       "      <th>ArrDelay</th>\n",
       "      <th>DepDelay</th>\n",
       "      <th>Origin</th>\n",
       "      <th>Dest</th>\n",
       "      <th>Distance</th>\n",
       "      <th>TaxiIn</th>\n",
       "      <th>TaxiOut</th>\n",
       "      <th>Cancelled</th>\n",
       "      <th>Diverted</th>\n",
       "    </tr>\n",
       "    <tr>\n",
       "      <th>npartitions=10</th>\n",
       "      <th></th>\n",
       "      <th></th>\n",
       "      <th></th>\n",
       "      <th></th>\n",
       "      <th></th>\n",
       "      <th></th>\n",
       "      <th></th>\n",
       "      <th></th>\n",
       "      <th></th>\n",
       "      <th></th>\n",
       "      <th></th>\n",
       "      <th></th>\n",
       "      <th></th>\n",
       "      <th></th>\n",
       "      <th></th>\n",
       "      <th></th>\n",
       "      <th></th>\n",
       "      <th></th>\n",
       "      <th></th>\n",
       "      <th></th>\n",
       "      <th></th>\n",
       "      <th></th>\n",
       "      <th></th>\n",
       "    </tr>\n",
       "  </thead>\n",
       "  <tbody>\n",
       "    <tr>\n",
       "      <th></th>\n",
       "      <td>int64</td>\n",
       "      <td>int64</td>\n",
       "      <td>int64</td>\n",
       "      <td>int64</td>\n",
       "      <td>float64</td>\n",
       "      <td>int64</td>\n",
       "      <td>float64</td>\n",
       "      <td>int64</td>\n",
       "      <td>object</td>\n",
       "      <td>int64</td>\n",
       "      <td>float64</td>\n",
       "      <td>float64</td>\n",
       "      <td>int64</td>\n",
       "      <td>float64</td>\n",
       "      <td>float64</td>\n",
       "      <td>float64</td>\n",
       "      <td>object</td>\n",
       "      <td>object</td>\n",
       "      <td>float64</td>\n",
       "      <td>float64</td>\n",
       "      <td>float64</td>\n",
       "      <td>int64</td>\n",
       "      <td>int64</td>\n",
       "    </tr>\n",
       "    <tr>\n",
       "      <th></th>\n",
       "      <td>...</td>\n",
       "      <td>...</td>\n",
       "      <td>...</td>\n",
       "      <td>...</td>\n",
       "      <td>...</td>\n",
       "      <td>...</td>\n",
       "      <td>...</td>\n",
       "      <td>...</td>\n",
       "      <td>...</td>\n",
       "      <td>...</td>\n",
       "      <td>...</td>\n",
       "      <td>...</td>\n",
       "      <td>...</td>\n",
       "      <td>...</td>\n",
       "      <td>...</td>\n",
       "      <td>...</td>\n",
       "      <td>...</td>\n",
       "      <td>...</td>\n",
       "      <td>...</td>\n",
       "      <td>...</td>\n",
       "      <td>...</td>\n",
       "      <td>...</td>\n",
       "      <td>...</td>\n",
       "    </tr>\n",
       "    <tr>\n",
       "      <th>...</th>\n",
       "      <td>...</td>\n",
       "      <td>...</td>\n",
       "      <td>...</td>\n",
       "      <td>...</td>\n",
       "      <td>...</td>\n",
       "      <td>...</td>\n",
       "      <td>...</td>\n",
       "      <td>...</td>\n",
       "      <td>...</td>\n",
       "      <td>...</td>\n",
       "      <td>...</td>\n",
       "      <td>...</td>\n",
       "      <td>...</td>\n",
       "      <td>...</td>\n",
       "      <td>...</td>\n",
       "      <td>...</td>\n",
       "      <td>...</td>\n",
       "      <td>...</td>\n",
       "      <td>...</td>\n",
       "      <td>...</td>\n",
       "      <td>...</td>\n",
       "      <td>...</td>\n",
       "      <td>...</td>\n",
       "    </tr>\n",
       "    <tr>\n",
       "      <th></th>\n",
       "      <td>...</td>\n",
       "      <td>...</td>\n",
       "      <td>...</td>\n",
       "      <td>...</td>\n",
       "      <td>...</td>\n",
       "      <td>...</td>\n",
       "      <td>...</td>\n",
       "      <td>...</td>\n",
       "      <td>...</td>\n",
       "      <td>...</td>\n",
       "      <td>...</td>\n",
       "      <td>...</td>\n",
       "      <td>...</td>\n",
       "      <td>...</td>\n",
       "      <td>...</td>\n",
       "      <td>...</td>\n",
       "      <td>...</td>\n",
       "      <td>...</td>\n",
       "      <td>...</td>\n",
       "      <td>...</td>\n",
       "      <td>...</td>\n",
       "      <td>...</td>\n",
       "      <td>...</td>\n",
       "    </tr>\n",
       "    <tr>\n",
       "      <th></th>\n",
       "      <td>...</td>\n",
       "      <td>...</td>\n",
       "      <td>...</td>\n",
       "      <td>...</td>\n",
       "      <td>...</td>\n",
       "      <td>...</td>\n",
       "      <td>...</td>\n",
       "      <td>...</td>\n",
       "      <td>...</td>\n",
       "      <td>...</td>\n",
       "      <td>...</td>\n",
       "      <td>...</td>\n",
       "      <td>...</td>\n",
       "      <td>...</td>\n",
       "      <td>...</td>\n",
       "      <td>...</td>\n",
       "      <td>...</td>\n",
       "      <td>...</td>\n",
       "      <td>...</td>\n",
       "      <td>...</td>\n",
       "      <td>...</td>\n",
       "      <td>...</td>\n",
       "      <td>...</td>\n",
       "    </tr>\n",
       "  </tbody>\n",
       "</table>\n",
       "</div>\n",
       "<div>Dask Name: read-csv, 10 tasks</div>"
      ],
      "text/plain": [
       "Dask DataFrame Structure:\n",
       "                 Year  Month DayofMonth DayOfWeek  DepTime CRSDepTime  ArrTime CRSArrTime UniqueCarrier FlightNum  TailNum ActualElapsedTime CRSElapsedTime  AirTime ArrDelay DepDelay  Origin    Dest Distance   TaxiIn  TaxiOut Cancelled Diverted\n",
       "npartitions=10                                                                                                                                                                                                                                      \n",
       "                int64  int64      int64     int64  float64      int64  float64      int64        object     int64  float64           float64          int64  float64  float64  float64  object  object  float64  float64  float64     int64    int64\n",
       "                  ...    ...        ...       ...      ...        ...      ...        ...           ...       ...      ...               ...            ...      ...      ...      ...     ...     ...      ...      ...      ...       ...      ...\n",
       "...               ...    ...        ...       ...      ...        ...      ...        ...           ...       ...      ...               ...            ...      ...      ...      ...     ...     ...      ...      ...      ...       ...      ...\n",
       "                  ...    ...        ...       ...      ...        ...      ...        ...           ...       ...      ...               ...            ...      ...      ...      ...     ...     ...      ...      ...      ...       ...      ...\n",
       "                  ...    ...        ...       ...      ...        ...      ...        ...           ...       ...      ...               ...            ...      ...      ...      ...     ...     ...      ...      ...      ...       ...      ...\n",
       "Dask Name: read-csv, 10 tasks"
      ]
     },
     "execution_count": 5,
     "metadata": {},
     "output_type": "execute_result"
    }
   ],
   "source": [
    "ddf"
   ]
  },
  {
   "cell_type": "markdown",
   "id": "aae0a268",
   "metadata": {},
   "source": [
    "Notice that the respresentation of the dataframe object contains no data - Dask has just done enough to read the start of the first file, and infer the column names and dtypes.\n"
   ]
  },
  {
   "cell_type": "code",
   "execution_count": 6,
   "id": "2d5d274f",
   "metadata": {
    "scrolled": true
   },
   "outputs": [
    {
     "data": {
      "text/html": [
       "<div>\n",
       "<style scoped>\n",
       "    .dataframe tbody tr th:only-of-type {\n",
       "        vertical-align: middle;\n",
       "    }\n",
       "\n",
       "    .dataframe tbody tr th {\n",
       "        vertical-align: top;\n",
       "    }\n",
       "\n",
       "    .dataframe thead th {\n",
       "        text-align: right;\n",
       "    }\n",
       "</style>\n",
       "<table border=\"1\" class=\"dataframe\">\n",
       "  <thead>\n",
       "    <tr style=\"text-align: right;\">\n",
       "      <th></th>\n",
       "      <th>Year</th>\n",
       "      <th>Month</th>\n",
       "      <th>DayofMonth</th>\n",
       "      <th>DayOfWeek</th>\n",
       "      <th>DepTime</th>\n",
       "      <th>CRSDepTime</th>\n",
       "      <th>ArrTime</th>\n",
       "      <th>CRSArrTime</th>\n",
       "      <th>UniqueCarrier</th>\n",
       "      <th>FlightNum</th>\n",
       "      <th>...</th>\n",
       "      <th>AirTime</th>\n",
       "      <th>ArrDelay</th>\n",
       "      <th>DepDelay</th>\n",
       "      <th>Origin</th>\n",
       "      <th>Dest</th>\n",
       "      <th>Distance</th>\n",
       "      <th>TaxiIn</th>\n",
       "      <th>TaxiOut</th>\n",
       "      <th>Cancelled</th>\n",
       "      <th>Diverted</th>\n",
       "    </tr>\n",
       "  </thead>\n",
       "  <tbody>\n",
       "    <tr>\n",
       "      <th>0</th>\n",
       "      <td>1990</td>\n",
       "      <td>1</td>\n",
       "      <td>1</td>\n",
       "      <td>1</td>\n",
       "      <td>1621.0</td>\n",
       "      <td>1540</td>\n",
       "      <td>1747.0</td>\n",
       "      <td>1701</td>\n",
       "      <td>US</td>\n",
       "      <td>33</td>\n",
       "      <td>...</td>\n",
       "      <td>NaN</td>\n",
       "      <td>46.0</td>\n",
       "      <td>41.0</td>\n",
       "      <td>EWR</td>\n",
       "      <td>PIT</td>\n",
       "      <td>319.0</td>\n",
       "      <td>NaN</td>\n",
       "      <td>NaN</td>\n",
       "      <td>0</td>\n",
       "      <td>0</td>\n",
       "    </tr>\n",
       "    <tr>\n",
       "      <th>1</th>\n",
       "      <td>1990</td>\n",
       "      <td>1</td>\n",
       "      <td>2</td>\n",
       "      <td>2</td>\n",
       "      <td>1547.0</td>\n",
       "      <td>1540</td>\n",
       "      <td>1700.0</td>\n",
       "      <td>1701</td>\n",
       "      <td>US</td>\n",
       "      <td>33</td>\n",
       "      <td>...</td>\n",
       "      <td>NaN</td>\n",
       "      <td>-1.0</td>\n",
       "      <td>7.0</td>\n",
       "      <td>EWR</td>\n",
       "      <td>PIT</td>\n",
       "      <td>319.0</td>\n",
       "      <td>NaN</td>\n",
       "      <td>NaN</td>\n",
       "      <td>0</td>\n",
       "      <td>0</td>\n",
       "    </tr>\n",
       "    <tr>\n",
       "      <th>2</th>\n",
       "      <td>1990</td>\n",
       "      <td>1</td>\n",
       "      <td>3</td>\n",
       "      <td>3</td>\n",
       "      <td>1546.0</td>\n",
       "      <td>1540</td>\n",
       "      <td>1710.0</td>\n",
       "      <td>1701</td>\n",
       "      <td>US</td>\n",
       "      <td>33</td>\n",
       "      <td>...</td>\n",
       "      <td>NaN</td>\n",
       "      <td>9.0</td>\n",
       "      <td>6.0</td>\n",
       "      <td>EWR</td>\n",
       "      <td>PIT</td>\n",
       "      <td>319.0</td>\n",
       "      <td>NaN</td>\n",
       "      <td>NaN</td>\n",
       "      <td>0</td>\n",
       "      <td>0</td>\n",
       "    </tr>\n",
       "    <tr>\n",
       "      <th>3</th>\n",
       "      <td>1990</td>\n",
       "      <td>1</td>\n",
       "      <td>4</td>\n",
       "      <td>4</td>\n",
       "      <td>1542.0</td>\n",
       "      <td>1540</td>\n",
       "      <td>1710.0</td>\n",
       "      <td>1701</td>\n",
       "      <td>US</td>\n",
       "      <td>33</td>\n",
       "      <td>...</td>\n",
       "      <td>NaN</td>\n",
       "      <td>9.0</td>\n",
       "      <td>2.0</td>\n",
       "      <td>EWR</td>\n",
       "      <td>PIT</td>\n",
       "      <td>319.0</td>\n",
       "      <td>NaN</td>\n",
       "      <td>NaN</td>\n",
       "      <td>0</td>\n",
       "      <td>0</td>\n",
       "    </tr>\n",
       "    <tr>\n",
       "      <th>4</th>\n",
       "      <td>1990</td>\n",
       "      <td>1</td>\n",
       "      <td>5</td>\n",
       "      <td>5</td>\n",
       "      <td>1549.0</td>\n",
       "      <td>1540</td>\n",
       "      <td>1706.0</td>\n",
       "      <td>1701</td>\n",
       "      <td>US</td>\n",
       "      <td>33</td>\n",
       "      <td>...</td>\n",
       "      <td>NaN</td>\n",
       "      <td>5.0</td>\n",
       "      <td>9.0</td>\n",
       "      <td>EWR</td>\n",
       "      <td>PIT</td>\n",
       "      <td>319.0</td>\n",
       "      <td>NaN</td>\n",
       "      <td>NaN</td>\n",
       "      <td>0</td>\n",
       "      <td>0</td>\n",
       "    </tr>\n",
       "    <tr>\n",
       "      <th>...</th>\n",
       "      <td>...</td>\n",
       "      <td>...</td>\n",
       "      <td>...</td>\n",
       "      <td>...</td>\n",
       "      <td>...</td>\n",
       "      <td>...</td>\n",
       "      <td>...</td>\n",
       "      <td>...</td>\n",
       "      <td>...</td>\n",
       "      <td>...</td>\n",
       "      <td>...</td>\n",
       "      <td>...</td>\n",
       "      <td>...</td>\n",
       "      <td>...</td>\n",
       "      <td>...</td>\n",
       "      <td>...</td>\n",
       "      <td>...</td>\n",
       "      <td>...</td>\n",
       "      <td>...</td>\n",
       "      <td>...</td>\n",
       "      <td>...</td>\n",
       "    </tr>\n",
       "    <tr>\n",
       "      <th>269176</th>\n",
       "      <td>1999</td>\n",
       "      <td>12</td>\n",
       "      <td>27</td>\n",
       "      <td>1</td>\n",
       "      <td>1645.0</td>\n",
       "      <td>1645</td>\n",
       "      <td>1830.0</td>\n",
       "      <td>1901</td>\n",
       "      <td>UA</td>\n",
       "      <td>1753</td>\n",
       "      <td>...</td>\n",
       "      <td>205.0</td>\n",
       "      <td>-31.0</td>\n",
       "      <td>0.0</td>\n",
       "      <td>LGA</td>\n",
       "      <td>DEN</td>\n",
       "      <td>1619.0</td>\n",
       "      <td>7.0</td>\n",
       "      <td>13.0</td>\n",
       "      <td>0</td>\n",
       "      <td>0</td>\n",
       "    </tr>\n",
       "    <tr>\n",
       "      <th>269177</th>\n",
       "      <td>1999</td>\n",
       "      <td>12</td>\n",
       "      <td>28</td>\n",
       "      <td>2</td>\n",
       "      <td>1726.0</td>\n",
       "      <td>1645</td>\n",
       "      <td>1928.0</td>\n",
       "      <td>1901</td>\n",
       "      <td>UA</td>\n",
       "      <td>1753</td>\n",
       "      <td>...</td>\n",
       "      <td>214.0</td>\n",
       "      <td>27.0</td>\n",
       "      <td>41.0</td>\n",
       "      <td>LGA</td>\n",
       "      <td>DEN</td>\n",
       "      <td>1619.0</td>\n",
       "      <td>5.0</td>\n",
       "      <td>23.0</td>\n",
       "      <td>0</td>\n",
       "      <td>0</td>\n",
       "    </tr>\n",
       "    <tr>\n",
       "      <th>269178</th>\n",
       "      <td>1999</td>\n",
       "      <td>12</td>\n",
       "      <td>29</td>\n",
       "      <td>3</td>\n",
       "      <td>1646.0</td>\n",
       "      <td>1645</td>\n",
       "      <td>1846.0</td>\n",
       "      <td>1901</td>\n",
       "      <td>UA</td>\n",
       "      <td>1753</td>\n",
       "      <td>...</td>\n",
       "      <td>220.0</td>\n",
       "      <td>-15.0</td>\n",
       "      <td>1.0</td>\n",
       "      <td>LGA</td>\n",
       "      <td>DEN</td>\n",
       "      <td>1619.0</td>\n",
       "      <td>5.0</td>\n",
       "      <td>15.0</td>\n",
       "      <td>0</td>\n",
       "      <td>0</td>\n",
       "    </tr>\n",
       "    <tr>\n",
       "      <th>269179</th>\n",
       "      <td>1999</td>\n",
       "      <td>12</td>\n",
       "      <td>30</td>\n",
       "      <td>4</td>\n",
       "      <td>1651.0</td>\n",
       "      <td>1645</td>\n",
       "      <td>1908.0</td>\n",
       "      <td>1901</td>\n",
       "      <td>UA</td>\n",
       "      <td>1753</td>\n",
       "      <td>...</td>\n",
       "      <td>233.0</td>\n",
       "      <td>7.0</td>\n",
       "      <td>6.0</td>\n",
       "      <td>LGA</td>\n",
       "      <td>DEN</td>\n",
       "      <td>1619.0</td>\n",
       "      <td>5.0</td>\n",
       "      <td>19.0</td>\n",
       "      <td>0</td>\n",
       "      <td>0</td>\n",
       "    </tr>\n",
       "    <tr>\n",
       "      <th>269180</th>\n",
       "      <td>1999</td>\n",
       "      <td>12</td>\n",
       "      <td>31</td>\n",
       "      <td>5</td>\n",
       "      <td>1642.0</td>\n",
       "      <td>1645</td>\n",
       "      <td>1851.0</td>\n",
       "      <td>1901</td>\n",
       "      <td>UA</td>\n",
       "      <td>1753</td>\n",
       "      <td>...</td>\n",
       "      <td>232.0</td>\n",
       "      <td>-10.0</td>\n",
       "      <td>-3.0</td>\n",
       "      <td>LGA</td>\n",
       "      <td>DEN</td>\n",
       "      <td>1619.0</td>\n",
       "      <td>6.0</td>\n",
       "      <td>11.0</td>\n",
       "      <td>0</td>\n",
       "      <td>0</td>\n",
       "    </tr>\n",
       "  </tbody>\n",
       "</table>\n",
       "<p>2611892 rows × 23 columns</p>\n",
       "</div>"
      ],
      "text/plain": [
       "        Year  Month  DayofMonth  DayOfWeek  DepTime  CRSDepTime  ArrTime  \\\n",
       "0       1990      1           1          1   1621.0        1540   1747.0   \n",
       "1       1990      1           2          2   1547.0        1540   1700.0   \n",
       "2       1990      1           3          3   1546.0        1540   1710.0   \n",
       "3       1990      1           4          4   1542.0        1540   1710.0   \n",
       "4       1990      1           5          5   1549.0        1540   1706.0   \n",
       "...      ...    ...         ...        ...      ...         ...      ...   \n",
       "269176  1999     12          27          1   1645.0        1645   1830.0   \n",
       "269177  1999     12          28          2   1726.0        1645   1928.0   \n",
       "269178  1999     12          29          3   1646.0        1645   1846.0   \n",
       "269179  1999     12          30          4   1651.0        1645   1908.0   \n",
       "269180  1999     12          31          5   1642.0        1645   1851.0   \n",
       "\n",
       "        CRSArrTime UniqueCarrier  FlightNum  ... AirTime  ArrDelay  DepDelay  \\\n",
       "0             1701            US         33  ...     NaN      46.0      41.0   \n",
       "1             1701            US         33  ...     NaN      -1.0       7.0   \n",
       "2             1701            US         33  ...     NaN       9.0       6.0   \n",
       "3             1701            US         33  ...     NaN       9.0       2.0   \n",
       "4             1701            US         33  ...     NaN       5.0       9.0   \n",
       "...            ...           ...        ...  ...     ...       ...       ...   \n",
       "269176        1901            UA       1753  ...   205.0     -31.0       0.0   \n",
       "269177        1901            UA       1753  ...   214.0      27.0      41.0   \n",
       "269178        1901            UA       1753  ...   220.0     -15.0       1.0   \n",
       "269179        1901            UA       1753  ...   233.0       7.0       6.0   \n",
       "269180        1901            UA       1753  ...   232.0     -10.0      -3.0   \n",
       "\n",
       "        Origin  Dest  Distance TaxiIn TaxiOut  Cancelled  Diverted  \n",
       "0          EWR   PIT     319.0    NaN     NaN          0         0  \n",
       "1          EWR   PIT     319.0    NaN     NaN          0         0  \n",
       "2          EWR   PIT     319.0    NaN     NaN          0         0  \n",
       "3          EWR   PIT     319.0    NaN     NaN          0         0  \n",
       "4          EWR   PIT     319.0    NaN     NaN          0         0  \n",
       "...        ...   ...       ...    ...     ...        ...       ...  \n",
       "269176     LGA   DEN    1619.0    7.0    13.0          0         0  \n",
       "269177     LGA   DEN    1619.0    5.0    23.0          0         0  \n",
       "269178     LGA   DEN    1619.0    5.0    15.0          0         0  \n",
       "269179     LGA   DEN    1619.0    5.0    19.0          0         0  \n",
       "269180     LGA   DEN    1619.0    6.0    11.0          0         0  \n",
       "\n",
       "[2611892 rows x 23 columns]"
      ]
     },
     "execution_count": 6,
     "metadata": {},
     "output_type": "execute_result"
    }
   ],
   "source": [
    "pdf"
   ]
  },
  {
   "cell_type": "code",
   "execution_count": 7,
   "id": "07c91348",
   "metadata": {
    "scrolled": false
   },
   "outputs": [
    {
     "data": {
      "text/html": [
       "<div>\n",
       "<style scoped>\n",
       "    .dataframe tbody tr th:only-of-type {\n",
       "        vertical-align: middle;\n",
       "    }\n",
       "\n",
       "    .dataframe tbody tr th {\n",
       "        vertical-align: top;\n",
       "    }\n",
       "\n",
       "    .dataframe thead th {\n",
       "        text-align: right;\n",
       "    }\n",
       "</style>\n",
       "<table border=\"1\" class=\"dataframe\">\n",
       "  <thead>\n",
       "    <tr style=\"text-align: right;\">\n",
       "      <th></th>\n",
       "      <th>Year</th>\n",
       "      <th>Month</th>\n",
       "      <th>DayofMonth</th>\n",
       "      <th>DayOfWeek</th>\n",
       "      <th>DepTime</th>\n",
       "      <th>CRSDepTime</th>\n",
       "      <th>ArrTime</th>\n",
       "      <th>CRSArrTime</th>\n",
       "      <th>UniqueCarrier</th>\n",
       "      <th>FlightNum</th>\n",
       "      <th>...</th>\n",
       "      <th>AirTime</th>\n",
       "      <th>ArrDelay</th>\n",
       "      <th>DepDelay</th>\n",
       "      <th>Origin</th>\n",
       "      <th>Dest</th>\n",
       "      <th>Distance</th>\n",
       "      <th>TaxiIn</th>\n",
       "      <th>TaxiOut</th>\n",
       "      <th>Cancelled</th>\n",
       "      <th>Diverted</th>\n",
       "    </tr>\n",
       "  </thead>\n",
       "  <tbody>\n",
       "    <tr>\n",
       "      <th>0</th>\n",
       "      <td>1990</td>\n",
       "      <td>1</td>\n",
       "      <td>1</td>\n",
       "      <td>1</td>\n",
       "      <td>1621.0</td>\n",
       "      <td>1540</td>\n",
       "      <td>1747.0</td>\n",
       "      <td>1701</td>\n",
       "      <td>US</td>\n",
       "      <td>33</td>\n",
       "      <td>...</td>\n",
       "      <td>NaN</td>\n",
       "      <td>46.0</td>\n",
       "      <td>41.0</td>\n",
       "      <td>EWR</td>\n",
       "      <td>PIT</td>\n",
       "      <td>319.0</td>\n",
       "      <td>NaN</td>\n",
       "      <td>NaN</td>\n",
       "      <td>0</td>\n",
       "      <td>0</td>\n",
       "    </tr>\n",
       "    <tr>\n",
       "      <th>1</th>\n",
       "      <td>1990</td>\n",
       "      <td>1</td>\n",
       "      <td>2</td>\n",
       "      <td>2</td>\n",
       "      <td>1547.0</td>\n",
       "      <td>1540</td>\n",
       "      <td>1700.0</td>\n",
       "      <td>1701</td>\n",
       "      <td>US</td>\n",
       "      <td>33</td>\n",
       "      <td>...</td>\n",
       "      <td>NaN</td>\n",
       "      <td>-1.0</td>\n",
       "      <td>7.0</td>\n",
       "      <td>EWR</td>\n",
       "      <td>PIT</td>\n",
       "      <td>319.0</td>\n",
       "      <td>NaN</td>\n",
       "      <td>NaN</td>\n",
       "      <td>0</td>\n",
       "      <td>0</td>\n",
       "    </tr>\n",
       "    <tr>\n",
       "      <th>2</th>\n",
       "      <td>1990</td>\n",
       "      <td>1</td>\n",
       "      <td>3</td>\n",
       "      <td>3</td>\n",
       "      <td>1546.0</td>\n",
       "      <td>1540</td>\n",
       "      <td>1710.0</td>\n",
       "      <td>1701</td>\n",
       "      <td>US</td>\n",
       "      <td>33</td>\n",
       "      <td>...</td>\n",
       "      <td>NaN</td>\n",
       "      <td>9.0</td>\n",
       "      <td>6.0</td>\n",
       "      <td>EWR</td>\n",
       "      <td>PIT</td>\n",
       "      <td>319.0</td>\n",
       "      <td>NaN</td>\n",
       "      <td>NaN</td>\n",
       "      <td>0</td>\n",
       "      <td>0</td>\n",
       "    </tr>\n",
       "    <tr>\n",
       "      <th>3</th>\n",
       "      <td>1990</td>\n",
       "      <td>1</td>\n",
       "      <td>4</td>\n",
       "      <td>4</td>\n",
       "      <td>1542.0</td>\n",
       "      <td>1540</td>\n",
       "      <td>1710.0</td>\n",
       "      <td>1701</td>\n",
       "      <td>US</td>\n",
       "      <td>33</td>\n",
       "      <td>...</td>\n",
       "      <td>NaN</td>\n",
       "      <td>9.0</td>\n",
       "      <td>2.0</td>\n",
       "      <td>EWR</td>\n",
       "      <td>PIT</td>\n",
       "      <td>319.0</td>\n",
       "      <td>NaN</td>\n",
       "      <td>NaN</td>\n",
       "      <td>0</td>\n",
       "      <td>0</td>\n",
       "    </tr>\n",
       "    <tr>\n",
       "      <th>4</th>\n",
       "      <td>1990</td>\n",
       "      <td>1</td>\n",
       "      <td>5</td>\n",
       "      <td>5</td>\n",
       "      <td>1549.0</td>\n",
       "      <td>1540</td>\n",
       "      <td>1706.0</td>\n",
       "      <td>1701</td>\n",
       "      <td>US</td>\n",
       "      <td>33</td>\n",
       "      <td>...</td>\n",
       "      <td>NaN</td>\n",
       "      <td>5.0</td>\n",
       "      <td>9.0</td>\n",
       "      <td>EWR</td>\n",
       "      <td>PIT</td>\n",
       "      <td>319.0</td>\n",
       "      <td>NaN</td>\n",
       "      <td>NaN</td>\n",
       "      <td>0</td>\n",
       "      <td>0</td>\n",
       "    </tr>\n",
       "  </tbody>\n",
       "</table>\n",
       "<p>5 rows × 23 columns</p>\n",
       "</div>"
      ],
      "text/plain": [
       "   Year  Month  DayofMonth  DayOfWeek  DepTime  CRSDepTime  ArrTime  \\\n",
       "0  1990      1           1          1   1621.0        1540   1747.0   \n",
       "1  1990      1           2          2   1547.0        1540   1700.0   \n",
       "2  1990      1           3          3   1546.0        1540   1710.0   \n",
       "3  1990      1           4          4   1542.0        1540   1710.0   \n",
       "4  1990      1           5          5   1549.0        1540   1706.0   \n",
       "\n",
       "   CRSArrTime UniqueCarrier  FlightNum  ...  AirTime  ArrDelay  DepDelay  \\\n",
       "0        1701            US         33  ...      NaN      46.0      41.0   \n",
       "1        1701            US         33  ...      NaN      -1.0       7.0   \n",
       "2        1701            US         33  ...      NaN       9.0       6.0   \n",
       "3        1701            US         33  ...      NaN       9.0       2.0   \n",
       "4        1701            US         33  ...      NaN       5.0       9.0   \n",
       "\n",
       "   Origin  Dest  Distance TaxiIn TaxiOut  Cancelled  Diverted  \n",
       "0     EWR   PIT     319.0    NaN     NaN          0         0  \n",
       "1     EWR   PIT     319.0    NaN     NaN          0         0  \n",
       "2     EWR   PIT     319.0    NaN     NaN          0         0  \n",
       "3     EWR   PIT     319.0    NaN     NaN          0         0  \n",
       "4     EWR   PIT     319.0    NaN     NaN          0         0  \n",
       "\n",
       "[5 rows x 23 columns]"
      ]
     },
     "execution_count": 7,
     "metadata": {},
     "output_type": "execute_result"
    }
   ],
   "source": [
    "ddf.head()"
   ]
  },
  {
   "cell_type": "markdown",
   "id": "e51ad18b",
   "metadata": {},
   "source": [
    "## Task 4. Timing exercise"
   ]
  },
  {
   "cell_type": "code",
   "execution_count": 8,
   "id": "bb907762",
   "metadata": {
    "scrolled": true
   },
   "outputs": [
    {
     "name": "stdout",
     "output_type": "stream",
     "text": [
      "25.7 ms ± 7.03 ms per loop (mean ± std. dev. of 7 runs, 10 loops each)\n"
     ]
    }
   ],
   "source": [
    "%timeit  ddf = dd.read_csv(filename)"
   ]
  },
  {
   "cell_type": "code",
   "execution_count": 9,
   "id": "cd499db3",
   "metadata": {
    "scrolled": false
   },
   "outputs": [
    {
     "name": "stdout",
     "output_type": "stream",
     "text": [
      "3.91 s ± 1.56 s per loop (mean ± std. dev. of 7 runs, 1 loop each)\n"
     ]
    }
   ],
   "source": [
    "%timeit   pdf = pd.concat(map(pd.read_csv, glob.glob(filename)))"
   ]
  },
  {
   "cell_type": "markdown",
   "id": "b6e8bef5",
   "metadata": {},
   "source": [
    "## Task 5. Dask DataFrame attributes"
   ]
  },
  {
   "cell_type": "code",
   "execution_count": 10,
   "id": "09262a00",
   "metadata": {
    "scrolled": true
   },
   "outputs": [
    {
     "data": {
      "text/plain": [
       "Index(['Year', 'Month', 'DayofMonth', 'DayOfWeek', 'DepTime', 'CRSDepTime',\n",
       "       'ArrTime', 'CRSArrTime', 'UniqueCarrier', 'FlightNum', 'TailNum',\n",
       "       'ActualElapsedTime', 'CRSElapsedTime', 'AirTime', 'ArrDelay',\n",
       "       'DepDelay', 'Origin', 'Dest', 'Distance', 'TaxiIn', 'TaxiOut',\n",
       "       'Cancelled', 'Diverted'],\n",
       "      dtype='object')"
      ]
     },
     "execution_count": 10,
     "metadata": {},
     "output_type": "execute_result"
    }
   ],
   "source": [
    "ddf.columns"
   ]
  },
  {
   "cell_type": "code",
   "execution_count": 11,
   "id": "9499d02c",
   "metadata": {
    "scrolled": false
   },
   "outputs": [
    {
     "data": {
      "text/plain": [
       "Year                   int64\n",
       "Month                  int64\n",
       "DayofMonth             int64\n",
       "DayOfWeek              int64\n",
       "DepTime              float64\n",
       "CRSDepTime             int64\n",
       "ArrTime              float64\n",
       "CRSArrTime             int64\n",
       "UniqueCarrier         object\n",
       "FlightNum              int64\n",
       "TailNum              float64\n",
       "ActualElapsedTime    float64\n",
       "CRSElapsedTime         int64\n",
       "AirTime              float64\n",
       "ArrDelay             float64\n",
       "DepDelay             float64\n",
       "Origin                object\n",
       "Dest                  object\n",
       "Distance             float64\n",
       "TaxiIn               float64\n",
       "TaxiOut              float64\n",
       "Cancelled              int64\n",
       "Diverted               int64\n",
       "dtype: object"
      ]
     },
     "execution_count": 11,
     "metadata": {},
     "output_type": "execute_result"
    }
   ],
   "source": [
    "ddf.dtypes"
   ]
  },
  {
   "cell_type": "markdown",
   "id": "5945c555",
   "metadata": {},
   "source": [
    "## Task 6. Read the data in again"
   ]
  },
  {
   "cell_type": "markdown",
   "id": "94b4e616",
   "metadata": {},
   "source": [
    "Unlike `pandas.read_csv` which reads in the entire file before inferring datatypes, `dask.dataframe.read_csv` only reads in a sample from the beginning of the file (or first file if using a glob). These inferred datatypes are then enforced when reading all partitions.\n",
    "\n",
    "In this case, the datatypes inferred in the sample are incorrect. The first several rows have no value for CRSElapsedTime (which pandas infers as a float), and later on turn out to be strings (object dtype). Note that Dask gives an informative error message about the mismatch. When this happens you have a few options:\n",
    "\n",
    "- Specify dtypes directly using the `dtype` keyword. This is the recommended solution, as it's the least error prone (better to be explicit than implicit) and also the most performant.\n",
    "\n",
    "- The date column (if there is one in the file) gets read as an object data type using the default read_csv(): To read the date column correctly, we can use the argument `parse_dates` to specify a list of date columns. If the date is split across multiple columns - say, day, month, year, we can specify parameter `parse_dates` and give it a dict with the name of the new date column, and the list of the columns names in order (year, month, day)."
   ]
  },
  {
   "cell_type": "code",
   "execution_count": 12,
   "id": "668501d6",
   "metadata": {},
   "outputs": [],
   "source": [
    "ddf = dd.read_csv(filename, \n",
    "                 parse_dates={'Date': [0, 1, 2]},\n",
    "                 dtype={'CRSElapsedTime': 'float64',\n",
    "                        'TailNum': 'object'})\n"
   ]
  },
  {
   "cell_type": "code",
   "execution_count": 13,
   "id": "d1987e3c",
   "metadata": {},
   "outputs": [
    {
     "data": {
      "text/plain": [
       "2611892"
      ]
     },
     "execution_count": 13,
     "metadata": {},
     "output_type": "execute_result"
    }
   ],
   "source": [
    "len(ddf)"
   ]
  },
  {
   "cell_type": "code",
   "execution_count": 14,
   "id": "7e0a5b5f",
   "metadata": {
    "scrolled": true
   },
   "outputs": [
    {
     "data": {
      "text/html": [
       "<div>\n",
       "<style scoped>\n",
       "    .dataframe tbody tr th:only-of-type {\n",
       "        vertical-align: middle;\n",
       "    }\n",
       "\n",
       "    .dataframe tbody tr th {\n",
       "        vertical-align: top;\n",
       "    }\n",
       "\n",
       "    .dataframe thead th {\n",
       "        text-align: right;\n",
       "    }\n",
       "</style>\n",
       "<table border=\"1\" class=\"dataframe\">\n",
       "  <thead>\n",
       "    <tr style=\"text-align: right;\">\n",
       "      <th></th>\n",
       "      <th>Date</th>\n",
       "      <th>DayOfWeek</th>\n",
       "      <th>DepTime</th>\n",
       "      <th>CRSDepTime</th>\n",
       "      <th>ArrTime</th>\n",
       "      <th>CRSArrTime</th>\n",
       "      <th>UniqueCarrier</th>\n",
       "      <th>FlightNum</th>\n",
       "      <th>TailNum</th>\n",
       "      <th>ActualElapsedTime</th>\n",
       "      <th>...</th>\n",
       "      <th>AirTime</th>\n",
       "      <th>ArrDelay</th>\n",
       "      <th>DepDelay</th>\n",
       "      <th>Origin</th>\n",
       "      <th>Dest</th>\n",
       "      <th>Distance</th>\n",
       "      <th>TaxiIn</th>\n",
       "      <th>TaxiOut</th>\n",
       "      <th>Cancelled</th>\n",
       "      <th>Diverted</th>\n",
       "    </tr>\n",
       "  </thead>\n",
       "  <tbody>\n",
       "    <tr>\n",
       "      <th>269176</th>\n",
       "      <td>1999-12-27</td>\n",
       "      <td>1</td>\n",
       "      <td>1645.0</td>\n",
       "      <td>1645</td>\n",
       "      <td>1830.0</td>\n",
       "      <td>1901</td>\n",
       "      <td>UA</td>\n",
       "      <td>1753</td>\n",
       "      <td>N516UA</td>\n",
       "      <td>225.0</td>\n",
       "      <td>...</td>\n",
       "      <td>205.0</td>\n",
       "      <td>-31.0</td>\n",
       "      <td>0.0</td>\n",
       "      <td>LGA</td>\n",
       "      <td>DEN</td>\n",
       "      <td>1619.0</td>\n",
       "      <td>7.0</td>\n",
       "      <td>13.0</td>\n",
       "      <td>0</td>\n",
       "      <td>0</td>\n",
       "    </tr>\n",
       "    <tr>\n",
       "      <th>269177</th>\n",
       "      <td>1999-12-28</td>\n",
       "      <td>2</td>\n",
       "      <td>1726.0</td>\n",
       "      <td>1645</td>\n",
       "      <td>1928.0</td>\n",
       "      <td>1901</td>\n",
       "      <td>UA</td>\n",
       "      <td>1753</td>\n",
       "      <td>N504UA</td>\n",
       "      <td>242.0</td>\n",
       "      <td>...</td>\n",
       "      <td>214.0</td>\n",
       "      <td>27.0</td>\n",
       "      <td>41.0</td>\n",
       "      <td>LGA</td>\n",
       "      <td>DEN</td>\n",
       "      <td>1619.0</td>\n",
       "      <td>5.0</td>\n",
       "      <td>23.0</td>\n",
       "      <td>0</td>\n",
       "      <td>0</td>\n",
       "    </tr>\n",
       "    <tr>\n",
       "      <th>269178</th>\n",
       "      <td>1999-12-29</td>\n",
       "      <td>3</td>\n",
       "      <td>1646.0</td>\n",
       "      <td>1645</td>\n",
       "      <td>1846.0</td>\n",
       "      <td>1901</td>\n",
       "      <td>UA</td>\n",
       "      <td>1753</td>\n",
       "      <td>N592UA</td>\n",
       "      <td>240.0</td>\n",
       "      <td>...</td>\n",
       "      <td>220.0</td>\n",
       "      <td>-15.0</td>\n",
       "      <td>1.0</td>\n",
       "      <td>LGA</td>\n",
       "      <td>DEN</td>\n",
       "      <td>1619.0</td>\n",
       "      <td>5.0</td>\n",
       "      <td>15.0</td>\n",
       "      <td>0</td>\n",
       "      <td>0</td>\n",
       "    </tr>\n",
       "    <tr>\n",
       "      <th>269179</th>\n",
       "      <td>1999-12-30</td>\n",
       "      <td>4</td>\n",
       "      <td>1651.0</td>\n",
       "      <td>1645</td>\n",
       "      <td>1908.0</td>\n",
       "      <td>1901</td>\n",
       "      <td>UA</td>\n",
       "      <td>1753</td>\n",
       "      <td>N575UA</td>\n",
       "      <td>257.0</td>\n",
       "      <td>...</td>\n",
       "      <td>233.0</td>\n",
       "      <td>7.0</td>\n",
       "      <td>6.0</td>\n",
       "      <td>LGA</td>\n",
       "      <td>DEN</td>\n",
       "      <td>1619.0</td>\n",
       "      <td>5.0</td>\n",
       "      <td>19.0</td>\n",
       "      <td>0</td>\n",
       "      <td>0</td>\n",
       "    </tr>\n",
       "    <tr>\n",
       "      <th>269180</th>\n",
       "      <td>1999-12-31</td>\n",
       "      <td>5</td>\n",
       "      <td>1642.0</td>\n",
       "      <td>1645</td>\n",
       "      <td>1851.0</td>\n",
       "      <td>1901</td>\n",
       "      <td>UA</td>\n",
       "      <td>1753</td>\n",
       "      <td>N539UA</td>\n",
       "      <td>249.0</td>\n",
       "      <td>...</td>\n",
       "      <td>232.0</td>\n",
       "      <td>-10.0</td>\n",
       "      <td>-3.0</td>\n",
       "      <td>LGA</td>\n",
       "      <td>DEN</td>\n",
       "      <td>1619.0</td>\n",
       "      <td>6.0</td>\n",
       "      <td>11.0</td>\n",
       "      <td>0</td>\n",
       "      <td>0</td>\n",
       "    </tr>\n",
       "  </tbody>\n",
       "</table>\n",
       "<p>5 rows × 21 columns</p>\n",
       "</div>"
      ],
      "text/plain": [
       "             Date  DayOfWeek  DepTime  CRSDepTime  ArrTime  CRSArrTime  \\\n",
       "269176 1999-12-27          1   1645.0        1645   1830.0        1901   \n",
       "269177 1999-12-28          2   1726.0        1645   1928.0        1901   \n",
       "269178 1999-12-29          3   1646.0        1645   1846.0        1901   \n",
       "269179 1999-12-30          4   1651.0        1645   1908.0        1901   \n",
       "269180 1999-12-31          5   1642.0        1645   1851.0        1901   \n",
       "\n",
       "       UniqueCarrier  FlightNum TailNum  ActualElapsedTime  ...  AirTime  \\\n",
       "269176            UA       1753  N516UA              225.0  ...    205.0   \n",
       "269177            UA       1753  N504UA              242.0  ...    214.0   \n",
       "269178            UA       1753  N592UA              240.0  ...    220.0   \n",
       "269179            UA       1753  N575UA              257.0  ...    233.0   \n",
       "269180            UA       1753  N539UA              249.0  ...    232.0   \n",
       "\n",
       "        ArrDelay  DepDelay  Origin Dest Distance  TaxiIn  TaxiOut  Cancelled  \\\n",
       "269176     -31.0       0.0     LGA  DEN   1619.0     7.0     13.0          0   \n",
       "269177      27.0      41.0     LGA  DEN   1619.0     5.0     23.0          0   \n",
       "269178     -15.0       1.0     LGA  DEN   1619.0     5.0     15.0          0   \n",
       "269179       7.0       6.0     LGA  DEN   1619.0     5.0     19.0          0   \n",
       "269180     -10.0      -3.0     LGA  DEN   1619.0     6.0     11.0          0   \n",
       "\n",
       "        Diverted  \n",
       "269176         0  \n",
       "269177         0  \n",
       "269178         0  \n",
       "269179         0  \n",
       "269180         0  \n",
       "\n",
       "[5 rows x 21 columns]"
      ]
     },
     "execution_count": 14,
     "metadata": {},
     "output_type": "execute_result"
    }
   ],
   "source": [
    "# verify that a new Date column is added\n",
    "ddf.tail()"
   ]
  },
  {
   "cell_type": "code",
   "execution_count": 15,
   "id": "48fa51a1",
   "metadata": {},
   "outputs": [
    {
     "data": {
      "text/html": [
       "<div>\n",
       "<style scoped>\n",
       "    .dataframe tbody tr th:only-of-type {\n",
       "        vertical-align: middle;\n",
       "    }\n",
       "\n",
       "    .dataframe tbody tr th {\n",
       "        vertical-align: top;\n",
       "    }\n",
       "\n",
       "    .dataframe thead th {\n",
       "        text-align: right;\n",
       "    }\n",
       "</style>\n",
       "<table border=\"1\" class=\"dataframe\">\n",
       "  <thead>\n",
       "    <tr style=\"text-align: right;\">\n",
       "      <th></th>\n",
       "      <th>CRSElapsedTime</th>\n",
       "      <th>TailNum</th>\n",
       "    </tr>\n",
       "  </thead>\n",
       "  <tbody>\n",
       "    <tr>\n",
       "      <th>80102</th>\n",
       "      <td>203.0</td>\n",
       "      <td>NaN</td>\n",
       "    </tr>\n",
       "    <tr>\n",
       "      <th>8025</th>\n",
       "      <td>186.0</td>\n",
       "      <td>NaN</td>\n",
       "    </tr>\n",
       "    <tr>\n",
       "      <th>84914</th>\n",
       "      <td>145.0</td>\n",
       "      <td>NaN</td>\n",
       "    </tr>\n",
       "    <tr>\n",
       "      <th>150201</th>\n",
       "      <td>383.0</td>\n",
       "      <td>NaN</td>\n",
       "    </tr>\n",
       "    <tr>\n",
       "      <th>104148</th>\n",
       "      <td>140.0</td>\n",
       "      <td>NaN</td>\n",
       "    </tr>\n",
       "    <tr>\n",
       "      <th>...</th>\n",
       "      <td>...</td>\n",
       "      <td>...</td>\n",
       "    </tr>\n",
       "    <tr>\n",
       "      <th>266792</th>\n",
       "      <td>121.0</td>\n",
       "      <td>N427US</td>\n",
       "    </tr>\n",
       "    <tr>\n",
       "      <th>59504</th>\n",
       "      <td>165.0</td>\n",
       "      <td>N635DL</td>\n",
       "    </tr>\n",
       "    <tr>\n",
       "      <th>156117</th>\n",
       "      <td>305.0</td>\n",
       "      <td>N637AW</td>\n",
       "    </tr>\n",
       "    <tr>\n",
       "      <th>235109</th>\n",
       "      <td>233.0</td>\n",
       "      <td>N17644</td>\n",
       "    </tr>\n",
       "    <tr>\n",
       "      <th>78114</th>\n",
       "      <td>169.0</td>\n",
       "      <td>N680DA</td>\n",
       "    </tr>\n",
       "  </tbody>\n",
       "</table>\n",
       "<p>2613 rows × 2 columns</p>\n",
       "</div>"
      ],
      "text/plain": [
       "        CRSElapsedTime TailNum\n",
       "80102            203.0     NaN\n",
       "8025             186.0     NaN\n",
       "84914            145.0     NaN\n",
       "150201           383.0     NaN\n",
       "104148           140.0     NaN\n",
       "...                ...     ...\n",
       "266792           121.0  N427US\n",
       "59504            165.0  N635DL\n",
       "156117           305.0  N637AW\n",
       "235109           233.0  N17644\n",
       "78114            169.0  N680DA\n",
       "\n",
       "[2613 rows x 2 columns]"
      ]
     },
     "execution_count": 15,
     "metadata": {},
     "output_type": "execute_result"
    }
   ],
   "source": [
    "# verify that the dtypes of these two columns are float and object (with Nan values)\n",
    "ddf[['CRSElapsedTime', 'TailNum']].sample(frac=0.001).compute()"
   ]
  },
  {
   "cell_type": "markdown",
   "id": "effb6d53",
   "metadata": {},
   "source": [
    "## Task 7. Obtaining a Dask Series and indexing Dask DataFrames"
   ]
  },
  {
   "cell_type": "code",
   "execution_count": 16,
   "id": "25ec18a9",
   "metadata": {
    "scrolled": true
   },
   "outputs": [
    {
     "data": {
      "text/plain": [
       "0            NaN\n",
       "1            NaN\n",
       "2            NaN\n",
       "3            NaN\n",
       "4            NaN\n",
       "           ...  \n",
       "269176    N516UA\n",
       "269177    N504UA\n",
       "269178    N592UA\n",
       "269179    N575UA\n",
       "269180    N539UA\n",
       "Name: TailNum, Length: 2611892, dtype: object"
      ]
     },
     "execution_count": 16,
     "metadata": {},
     "output_type": "execute_result"
    }
   ],
   "source": [
    "ddf['TailNum'].compute()"
   ]
  },
  {
   "cell_type": "code",
   "execution_count": 17,
   "id": "6e8da486",
   "metadata": {},
   "outputs": [
    {
     "data": {
      "text/html": [
       "<div>\n",
       "<style scoped>\n",
       "    .dataframe tbody tr th:only-of-type {\n",
       "        vertical-align: middle;\n",
       "    }\n",
       "\n",
       "    .dataframe tbody tr th {\n",
       "        vertical-align: top;\n",
       "    }\n",
       "\n",
       "    .dataframe thead th {\n",
       "        text-align: right;\n",
       "    }\n",
       "</style>\n",
       "<table border=\"1\" class=\"dataframe\">\n",
       "  <thead>\n",
       "    <tr style=\"text-align: right;\">\n",
       "      <th></th>\n",
       "      <th>Date</th>\n",
       "      <th>DayOfWeek</th>\n",
       "      <th>DepTime</th>\n",
       "      <th>CRSDepTime</th>\n",
       "      <th>ArrTime</th>\n",
       "      <th>CRSArrTime</th>\n",
       "      <th>UniqueCarrier</th>\n",
       "      <th>FlightNum</th>\n",
       "      <th>TailNum</th>\n",
       "      <th>ActualElapsedTime</th>\n",
       "      <th>...</th>\n",
       "      <th>AirTime</th>\n",
       "      <th>ArrDelay</th>\n",
       "      <th>DepDelay</th>\n",
       "      <th>Origin</th>\n",
       "      <th>Dest</th>\n",
       "      <th>Distance</th>\n",
       "      <th>TaxiIn</th>\n",
       "      <th>TaxiOut</th>\n",
       "      <th>Cancelled</th>\n",
       "      <th>Diverted</th>\n",
       "    </tr>\n",
       "  </thead>\n",
       "  <tbody>\n",
       "    <tr>\n",
       "      <th>88</th>\n",
       "      <td>1990-01-01</td>\n",
       "      <td>1</td>\n",
       "      <td>1205.0</td>\n",
       "      <td>1110</td>\n",
       "      <td>1343.0</td>\n",
       "      <td>1243</td>\n",
       "      <td>US</td>\n",
       "      <td>49</td>\n",
       "      <td>NaN</td>\n",
       "      <td>98.0</td>\n",
       "      <td>...</td>\n",
       "      <td>NaN</td>\n",
       "      <td>60.0</td>\n",
       "      <td>55.0</td>\n",
       "      <td>LGA</td>\n",
       "      <td>CLE</td>\n",
       "      <td>418.0</td>\n",
       "      <td>NaN</td>\n",
       "      <td>NaN</td>\n",
       "      <td>0</td>\n",
       "      <td>0</td>\n",
       "    </tr>\n",
       "    <tr>\n",
       "      <th>89</th>\n",
       "      <td>1990-01-02</td>\n",
       "      <td>2</td>\n",
       "      <td>1158.0</td>\n",
       "      <td>1110</td>\n",
       "      <td>1327.0</td>\n",
       "      <td>1243</td>\n",
       "      <td>US</td>\n",
       "      <td>49</td>\n",
       "      <td>NaN</td>\n",
       "      <td>89.0</td>\n",
       "      <td>...</td>\n",
       "      <td>NaN</td>\n",
       "      <td>44.0</td>\n",
       "      <td>48.0</td>\n",
       "      <td>LGA</td>\n",
       "      <td>CLE</td>\n",
       "      <td>418.0</td>\n",
       "      <td>NaN</td>\n",
       "      <td>NaN</td>\n",
       "      <td>0</td>\n",
       "      <td>0</td>\n",
       "    </tr>\n",
       "    <tr>\n",
       "      <th>90</th>\n",
       "      <td>1990-01-03</td>\n",
       "      <td>3</td>\n",
       "      <td>1202.0</td>\n",
       "      <td>1110</td>\n",
       "      <td>1324.0</td>\n",
       "      <td>1243</td>\n",
       "      <td>US</td>\n",
       "      <td>49</td>\n",
       "      <td>NaN</td>\n",
       "      <td>82.0</td>\n",
       "      <td>...</td>\n",
       "      <td>NaN</td>\n",
       "      <td>41.0</td>\n",
       "      <td>52.0</td>\n",
       "      <td>LGA</td>\n",
       "      <td>CLE</td>\n",
       "      <td>418.0</td>\n",
       "      <td>NaN</td>\n",
       "      <td>NaN</td>\n",
       "      <td>0</td>\n",
       "      <td>0</td>\n",
       "    </tr>\n",
       "    <tr>\n",
       "      <th>91</th>\n",
       "      <td>1990-01-06</td>\n",
       "      <td>6</td>\n",
       "      <td>1126.0</td>\n",
       "      <td>1110</td>\n",
       "      <td>1322.0</td>\n",
       "      <td>1243</td>\n",
       "      <td>US</td>\n",
       "      <td>49</td>\n",
       "      <td>NaN</td>\n",
       "      <td>116.0</td>\n",
       "      <td>...</td>\n",
       "      <td>NaN</td>\n",
       "      <td>39.0</td>\n",
       "      <td>16.0</td>\n",
       "      <td>LGA</td>\n",
       "      <td>CLE</td>\n",
       "      <td>418.0</td>\n",
       "      <td>NaN</td>\n",
       "      <td>NaN</td>\n",
       "      <td>0</td>\n",
       "      <td>0</td>\n",
       "    </tr>\n",
       "    <tr>\n",
       "      <th>92</th>\n",
       "      <td>1990-01-07</td>\n",
       "      <td>7</td>\n",
       "      <td>1114.0</td>\n",
       "      <td>1110</td>\n",
       "      <td>1236.0</td>\n",
       "      <td>1243</td>\n",
       "      <td>US</td>\n",
       "      <td>49</td>\n",
       "      <td>NaN</td>\n",
       "      <td>82.0</td>\n",
       "      <td>...</td>\n",
       "      <td>NaN</td>\n",
       "      <td>-7.0</td>\n",
       "      <td>4.0</td>\n",
       "      <td>LGA</td>\n",
       "      <td>CLE</td>\n",
       "      <td>418.0</td>\n",
       "      <td>NaN</td>\n",
       "      <td>NaN</td>\n",
       "      <td>0</td>\n",
       "      <td>0</td>\n",
       "    </tr>\n",
       "    <tr>\n",
       "      <th>...</th>\n",
       "      <td>...</td>\n",
       "      <td>...</td>\n",
       "      <td>...</td>\n",
       "      <td>...</td>\n",
       "      <td>...</td>\n",
       "      <td>...</td>\n",
       "      <td>...</td>\n",
       "      <td>...</td>\n",
       "      <td>...</td>\n",
       "      <td>...</td>\n",
       "      <td>...</td>\n",
       "      <td>...</td>\n",
       "      <td>...</td>\n",
       "      <td>...</td>\n",
       "      <td>...</td>\n",
       "      <td>...</td>\n",
       "      <td>...</td>\n",
       "      <td>...</td>\n",
       "      <td>...</td>\n",
       "      <td>...</td>\n",
       "      <td>...</td>\n",
       "    </tr>\n",
       "    <tr>\n",
       "      <th>269146</th>\n",
       "      <td>1999-12-27</td>\n",
       "      <td>1</td>\n",
       "      <td>1102.0</td>\n",
       "      <td>1100</td>\n",
       "      <td>1305.0</td>\n",
       "      <td>1311</td>\n",
       "      <td>UA</td>\n",
       "      <td>1685</td>\n",
       "      <td>N515UA</td>\n",
       "      <td>243.0</td>\n",
       "      <td>...</td>\n",
       "      <td>208.0</td>\n",
       "      <td>-6.0</td>\n",
       "      <td>2.0</td>\n",
       "      <td>LGA</td>\n",
       "      <td>DEN</td>\n",
       "      <td>1619.0</td>\n",
       "      <td>10.0</td>\n",
       "      <td>25.0</td>\n",
       "      <td>0</td>\n",
       "      <td>0</td>\n",
       "    </tr>\n",
       "    <tr>\n",
       "      <th>269147</th>\n",
       "      <td>1999-12-28</td>\n",
       "      <td>2</td>\n",
       "      <td>1058.0</td>\n",
       "      <td>1100</td>\n",
       "      <td>1305.0</td>\n",
       "      <td>1311</td>\n",
       "      <td>UA</td>\n",
       "      <td>1685</td>\n",
       "      <td>N598UA</td>\n",
       "      <td>247.0</td>\n",
       "      <td>...</td>\n",
       "      <td>221.0</td>\n",
       "      <td>-6.0</td>\n",
       "      <td>-2.0</td>\n",
       "      <td>LGA</td>\n",
       "      <td>DEN</td>\n",
       "      <td>1619.0</td>\n",
       "      <td>6.0</td>\n",
       "      <td>20.0</td>\n",
       "      <td>0</td>\n",
       "      <td>0</td>\n",
       "    </tr>\n",
       "    <tr>\n",
       "      <th>269148</th>\n",
       "      <td>1999-12-29</td>\n",
       "      <td>3</td>\n",
       "      <td>1057.0</td>\n",
       "      <td>1100</td>\n",
       "      <td>1308.0</td>\n",
       "      <td>1311</td>\n",
       "      <td>UA</td>\n",
       "      <td>1685</td>\n",
       "      <td>N517UA</td>\n",
       "      <td>251.0</td>\n",
       "      <td>...</td>\n",
       "      <td>218.0</td>\n",
       "      <td>-3.0</td>\n",
       "      <td>-3.0</td>\n",
       "      <td>LGA</td>\n",
       "      <td>DEN</td>\n",
       "      <td>1619.0</td>\n",
       "      <td>5.0</td>\n",
       "      <td>28.0</td>\n",
       "      <td>0</td>\n",
       "      <td>0</td>\n",
       "    </tr>\n",
       "    <tr>\n",
       "      <th>269149</th>\n",
       "      <td>1999-12-30</td>\n",
       "      <td>4</td>\n",
       "      <td>1056.0</td>\n",
       "      <td>1100</td>\n",
       "      <td>1312.0</td>\n",
       "      <td>1311</td>\n",
       "      <td>UA</td>\n",
       "      <td>1685</td>\n",
       "      <td>N502UA</td>\n",
       "      <td>256.0</td>\n",
       "      <td>...</td>\n",
       "      <td>227.0</td>\n",
       "      <td>1.0</td>\n",
       "      <td>-4.0</td>\n",
       "      <td>LGA</td>\n",
       "      <td>DEN</td>\n",
       "      <td>1619.0</td>\n",
       "      <td>6.0</td>\n",
       "      <td>23.0</td>\n",
       "      <td>0</td>\n",
       "      <td>0</td>\n",
       "    </tr>\n",
       "    <tr>\n",
       "      <th>269150</th>\n",
       "      <td>1999-12-31</td>\n",
       "      <td>5</td>\n",
       "      <td>1101.0</td>\n",
       "      <td>1100</td>\n",
       "      <td>1352.0</td>\n",
       "      <td>1311</td>\n",
       "      <td>UA</td>\n",
       "      <td>1685</td>\n",
       "      <td>N559UA</td>\n",
       "      <td>291.0</td>\n",
       "      <td>...</td>\n",
       "      <td>234.0</td>\n",
       "      <td>41.0</td>\n",
       "      <td>1.0</td>\n",
       "      <td>LGA</td>\n",
       "      <td>DEN</td>\n",
       "      <td>1619.0</td>\n",
       "      <td>7.0</td>\n",
       "      <td>50.0</td>\n",
       "      <td>0</td>\n",
       "      <td>0</td>\n",
       "    </tr>\n",
       "  </tbody>\n",
       "</table>\n",
       "<p>1254694 rows × 21 columns</p>\n",
       "</div>"
      ],
      "text/plain": [
       "             Date  DayOfWeek  DepTime  CRSDepTime  ArrTime  CRSArrTime  \\\n",
       "88     1990-01-01          1   1205.0        1110   1343.0        1243   \n",
       "89     1990-01-02          2   1158.0        1110   1327.0        1243   \n",
       "90     1990-01-03          3   1202.0        1110   1324.0        1243   \n",
       "91     1990-01-06          6   1126.0        1110   1322.0        1243   \n",
       "92     1990-01-07          7   1114.0        1110   1236.0        1243   \n",
       "...           ...        ...      ...         ...      ...         ...   \n",
       "269146 1999-12-27          1   1102.0        1100   1305.0        1311   \n",
       "269147 1999-12-28          2   1058.0        1100   1305.0        1311   \n",
       "269148 1999-12-29          3   1057.0        1100   1308.0        1311   \n",
       "269149 1999-12-30          4   1056.0        1100   1312.0        1311   \n",
       "269150 1999-12-31          5   1101.0        1100   1352.0        1311   \n",
       "\n",
       "       UniqueCarrier  FlightNum TailNum  ActualElapsedTime  ...  AirTime  \\\n",
       "88                US         49     NaN               98.0  ...      NaN   \n",
       "89                US         49     NaN               89.0  ...      NaN   \n",
       "90                US         49     NaN               82.0  ...      NaN   \n",
       "91                US         49     NaN              116.0  ...      NaN   \n",
       "92                US         49     NaN               82.0  ...      NaN   \n",
       "...              ...        ...     ...                ...  ...      ...   \n",
       "269146            UA       1685  N515UA              243.0  ...    208.0   \n",
       "269147            UA       1685  N598UA              247.0  ...    221.0   \n",
       "269148            UA       1685  N517UA              251.0  ...    218.0   \n",
       "269149            UA       1685  N502UA              256.0  ...    227.0   \n",
       "269150            UA       1685  N559UA              291.0  ...    234.0   \n",
       "\n",
       "        ArrDelay  DepDelay  Origin Dest Distance  TaxiIn  TaxiOut  Cancelled  \\\n",
       "88          60.0      55.0     LGA  CLE    418.0     NaN      NaN          0   \n",
       "89          44.0      48.0     LGA  CLE    418.0     NaN      NaN          0   \n",
       "90          41.0      52.0     LGA  CLE    418.0     NaN      NaN          0   \n",
       "91          39.0      16.0     LGA  CLE    418.0     NaN      NaN          0   \n",
       "92          -7.0       4.0     LGA  CLE    418.0     NaN      NaN          0   \n",
       "...          ...       ...     ...  ...      ...     ...      ...        ...   \n",
       "269146      -6.0       2.0     LGA  DEN   1619.0    10.0     25.0          0   \n",
       "269147      -6.0      -2.0     LGA  DEN   1619.0     6.0     20.0          0   \n",
       "269148      -3.0      -3.0     LGA  DEN   1619.0     5.0     28.0          0   \n",
       "269149       1.0      -4.0     LGA  DEN   1619.0     6.0     23.0          0   \n",
       "269150      41.0       1.0     LGA  DEN   1619.0     7.0     50.0          0   \n",
       "\n",
       "        Diverted  \n",
       "88             0  \n",
       "89             0  \n",
       "90             0  \n",
       "91             0  \n",
       "92             0  \n",
       "...          ...  \n",
       "269146         0  \n",
       "269147         0  \n",
       "269148         0  \n",
       "269149         0  \n",
       "269150         0  \n",
       "\n",
       "[1254694 rows x 21 columns]"
      ]
     },
     "execution_count": 17,
     "metadata": {},
     "output_type": "execute_result"
    }
   ],
   "source": [
    "ddf.loc[ddf['ArrTime'] < ddf['ArrTime'].mean()].compute()"
   ]
  },
  {
   "cell_type": "code",
   "execution_count": 18,
   "id": "8ed3bacc",
   "metadata": {
    "scrolled": false
   },
   "outputs": [
    {
     "data": {
      "text/html": [
       "<div>\n",
       "<style scoped>\n",
       "    .dataframe tbody tr th:only-of-type {\n",
       "        vertical-align: middle;\n",
       "    }\n",
       "\n",
       "    .dataframe tbody tr th {\n",
       "        vertical-align: top;\n",
       "    }\n",
       "\n",
       "    .dataframe thead th {\n",
       "        text-align: right;\n",
       "    }\n",
       "</style>\n",
       "<table border=\"1\" class=\"dataframe\">\n",
       "  <thead>\n",
       "    <tr style=\"text-align: right;\">\n",
       "      <th></th>\n",
       "      <th>DayOfWeek</th>\n",
       "      <th>CRSDepTime</th>\n",
       "    </tr>\n",
       "  </thead>\n",
       "  <tbody>\n",
       "    <tr>\n",
       "      <th>0</th>\n",
       "      <td>1</td>\n",
       "      <td>1540</td>\n",
       "    </tr>\n",
       "    <tr>\n",
       "      <th>1</th>\n",
       "      <td>2</td>\n",
       "      <td>1540</td>\n",
       "    </tr>\n",
       "    <tr>\n",
       "      <th>2</th>\n",
       "      <td>3</td>\n",
       "      <td>1540</td>\n",
       "    </tr>\n",
       "    <tr>\n",
       "      <th>3</th>\n",
       "      <td>4</td>\n",
       "      <td>1540</td>\n",
       "    </tr>\n",
       "    <tr>\n",
       "      <th>4</th>\n",
       "      <td>5</td>\n",
       "      <td>1540</td>\n",
       "    </tr>\n",
       "    <tr>\n",
       "      <th>...</th>\n",
       "      <td>...</td>\n",
       "      <td>...</td>\n",
       "    </tr>\n",
       "    <tr>\n",
       "      <th>269176</th>\n",
       "      <td>1</td>\n",
       "      <td>1645</td>\n",
       "    </tr>\n",
       "    <tr>\n",
       "      <th>269177</th>\n",
       "      <td>2</td>\n",
       "      <td>1645</td>\n",
       "    </tr>\n",
       "    <tr>\n",
       "      <th>269178</th>\n",
       "      <td>3</td>\n",
       "      <td>1645</td>\n",
       "    </tr>\n",
       "    <tr>\n",
       "      <th>269179</th>\n",
       "      <td>4</td>\n",
       "      <td>1645</td>\n",
       "    </tr>\n",
       "    <tr>\n",
       "      <th>269180</th>\n",
       "      <td>5</td>\n",
       "      <td>1645</td>\n",
       "    </tr>\n",
       "  </tbody>\n",
       "</table>\n",
       "<p>2611892 rows × 2 columns</p>\n",
       "</div>"
      ],
      "text/plain": [
       "        DayOfWeek  CRSDepTime\n",
       "0               1        1540\n",
       "1               2        1540\n",
       "2               3        1540\n",
       "3               4        1540\n",
       "4               5        1540\n",
       "...           ...         ...\n",
       "269176          1        1645\n",
       "269177          2        1645\n",
       "269178          3        1645\n",
       "269179          4        1645\n",
       "269180          5        1645\n",
       "\n",
       "[2611892 rows x 2 columns]"
      ]
     },
     "execution_count": 18,
     "metadata": {},
     "output_type": "execute_result"
    }
   ],
   "source": [
    "# .iloc can only be used to specify index on columns\n",
    "ddf.iloc[:,[1, 3,]].compute()"
   ]
  },
  {
   "cell_type": "code",
   "execution_count": 19,
   "id": "105314d4",
   "metadata": {},
   "outputs": [],
   "source": [
    "# this produces an error - cannot select rows with .iloc[]\n",
    "\n",
    "#ddf.iloc[[1, 3,]].compute()"
   ]
  },
  {
   "cell_type": "markdown",
   "id": "54bdf7f5",
   "metadata": {},
   "source": [
    "## Task 8. Converting from Pandas to Dask"
   ]
  },
  {
   "cell_type": "code",
   "execution_count": 20,
   "id": "c9def7ee",
   "metadata": {
    "scrolled": false
   },
   "outputs": [
    {
     "data": {
      "text/html": [
       "<div><strong>Dask DataFrame Structure:</strong></div>\n",
       "<div>\n",
       "<style scoped>\n",
       "    .dataframe tbody tr th:only-of-type {\n",
       "        vertical-align: middle;\n",
       "    }\n",
       "\n",
       "    .dataframe tbody tr th {\n",
       "        vertical-align: top;\n",
       "    }\n",
       "\n",
       "    .dataframe thead th {\n",
       "        text-align: right;\n",
       "    }\n",
       "</style>\n",
       "<table border=\"1\" class=\"dataframe\">\n",
       "  <thead>\n",
       "    <tr style=\"text-align: right;\">\n",
       "      <th></th>\n",
       "      <th>Year</th>\n",
       "      <th>Month</th>\n",
       "      <th>DayofMonth</th>\n",
       "      <th>DayOfWeek</th>\n",
       "      <th>DepTime</th>\n",
       "      <th>CRSDepTime</th>\n",
       "      <th>ArrTime</th>\n",
       "      <th>CRSArrTime</th>\n",
       "      <th>UniqueCarrier</th>\n",
       "      <th>FlightNum</th>\n",
       "      <th>TailNum</th>\n",
       "      <th>ActualElapsedTime</th>\n",
       "      <th>CRSElapsedTime</th>\n",
       "      <th>AirTime</th>\n",
       "      <th>ArrDelay</th>\n",
       "      <th>DepDelay</th>\n",
       "      <th>Origin</th>\n",
       "      <th>Dest</th>\n",
       "      <th>Distance</th>\n",
       "      <th>TaxiIn</th>\n",
       "      <th>TaxiOut</th>\n",
       "      <th>Cancelled</th>\n",
       "      <th>Diverted</th>\n",
       "    </tr>\n",
       "    <tr>\n",
       "      <th>npartitions=1</th>\n",
       "      <th></th>\n",
       "      <th></th>\n",
       "      <th></th>\n",
       "      <th></th>\n",
       "      <th></th>\n",
       "      <th></th>\n",
       "      <th></th>\n",
       "      <th></th>\n",
       "      <th></th>\n",
       "      <th></th>\n",
       "      <th></th>\n",
       "      <th></th>\n",
       "      <th></th>\n",
       "      <th></th>\n",
       "      <th></th>\n",
       "      <th></th>\n",
       "      <th></th>\n",
       "      <th></th>\n",
       "      <th></th>\n",
       "      <th></th>\n",
       "      <th></th>\n",
       "      <th></th>\n",
       "      <th></th>\n",
       "    </tr>\n",
       "  </thead>\n",
       "  <tbody>\n",
       "    <tr>\n",
       "      <th>26119</th>\n",
       "      <td>int64</td>\n",
       "      <td>int64</td>\n",
       "      <td>int64</td>\n",
       "      <td>int64</td>\n",
       "      <td>float64</td>\n",
       "      <td>int64</td>\n",
       "      <td>float64</td>\n",
       "      <td>int64</td>\n",
       "      <td>object</td>\n",
       "      <td>int64</td>\n",
       "      <td>object</td>\n",
       "      <td>float64</td>\n",
       "      <td>float64</td>\n",
       "      <td>float64</td>\n",
       "      <td>float64</td>\n",
       "      <td>float64</td>\n",
       "      <td>object</td>\n",
       "      <td>object</td>\n",
       "      <td>float64</td>\n",
       "      <td>float64</td>\n",
       "      <td>float64</td>\n",
       "      <td>int64</td>\n",
       "      <td>int64</td>\n",
       "    </tr>\n",
       "    <tr>\n",
       "      <th>52238</th>\n",
       "      <td>...</td>\n",
       "      <td>...</td>\n",
       "      <td>...</td>\n",
       "      <td>...</td>\n",
       "      <td>...</td>\n",
       "      <td>...</td>\n",
       "      <td>...</td>\n",
       "      <td>...</td>\n",
       "      <td>...</td>\n",
       "      <td>...</td>\n",
       "      <td>...</td>\n",
       "      <td>...</td>\n",
       "      <td>...</td>\n",
       "      <td>...</td>\n",
       "      <td>...</td>\n",
       "      <td>...</td>\n",
       "      <td>...</td>\n",
       "      <td>...</td>\n",
       "      <td>...</td>\n",
       "      <td>...</td>\n",
       "      <td>...</td>\n",
       "      <td>...</td>\n",
       "      <td>...</td>\n",
       "    </tr>\n",
       "  </tbody>\n",
       "</table>\n",
       "</div>\n",
       "<div>Dask Name: blocks, 11 tasks</div>"
      ],
      "text/plain": [
       "Dask DataFrame Structure:\n",
       "                Year  Month DayofMonth DayOfWeek  DepTime CRSDepTime  ArrTime CRSArrTime UniqueCarrier FlightNum TailNum ActualElapsedTime CRSElapsedTime  AirTime ArrDelay DepDelay  Origin    Dest Distance   TaxiIn  TaxiOut Cancelled Diverted\n",
       "npartitions=1                                                                                                                                                                                                                                     \n",
       "26119          int64  int64      int64     int64  float64      int64  float64      int64        object     int64  object           float64        float64  float64  float64  float64  object  object  float64  float64  float64     int64    int64\n",
       "52238            ...    ...        ...       ...      ...        ...      ...        ...           ...       ...     ...               ...            ...      ...      ...      ...     ...     ...      ...      ...      ...       ...      ...\n",
       "Dask Name: blocks, 11 tasks"
      ]
     },
     "execution_count": 20,
     "metadata": {},
     "output_type": "execute_result"
    }
   ],
   "source": [
    "# The number of partitions will be automatically determined, but you can set this value.\n",
    "ddf_partitions = dd.from_pandas(pdf, npartitions = 10)\n",
    "ddf_partitions.partitions[1]"
   ]
  },
  {
   "cell_type": "markdown",
   "id": "e268f904",
   "metadata": {},
   "source": [
    "## Task 9. Computations on Dask DataFrames"
   ]
  },
  {
   "cell_type": "markdown",
   "id": "7be91bce",
   "metadata": {},
   "source": [
    "**Dask DataFrame methods**\\\n",
    "Because the dask.dataframe application programming interface (API) is a subset of the Pandas API, it should be familiar to Pandas users. There are some slight alterations due to the parallel nature of Dask (some methods may not have all the same parameters).\n",
    "\n",
    "**Computation**\\\n",
    "Dask is *lazily evaluated*. The result from a computation isn’t computed until you ask for it. Instead, a *Dask task graph* for the computation is produced. Anytime you have a Dask object and you want to get the result, call `compute()`\n"
   ]
  },
  {
   "cell_type": "markdown",
   "id": "baa921b2",
   "metadata": {},
   "source": [
    "### 9a. Number of non-missing values in each column"
   ]
  },
  {
   "cell_type": "code",
   "execution_count": 21,
   "id": "b237b48d",
   "metadata": {
    "scrolled": false
   },
   "outputs": [
    {
     "data": {
      "text/plain": [
       "Date                 2611892\n",
       "DayOfWeek            2611892\n",
       "DepTime              2540961\n",
       "CRSDepTime           2611892\n",
       "ArrTime              2533682\n",
       "CRSArrTime           2611892\n",
       "UniqueCarrier        2611892\n",
       "FlightNum            2611892\n",
       "TailNum              1298886\n",
       "ActualElapsedTime    2533682\n",
       "CRSElapsedTime       2609927\n",
       "AirTime              1255069\n",
       "ArrDelay             2533682\n",
       "DepDelay             2540961\n",
       "Origin               2611892\n",
       "Dest                 2611892\n",
       "Distance             2610397\n",
       "TaxiIn               1298886\n",
       "TaxiOut              1298886\n",
       "Cancelled            2611892\n",
       "Diverted             2611892\n",
       "dtype: int64"
      ]
     },
     "execution_count": 21,
     "metadata": {},
     "output_type": "execute_result"
    }
   ],
   "source": [
    "ddf.count().compute()"
   ]
  },
  {
   "cell_type": "markdown",
   "id": "bb6acfe7",
   "metadata": {},
   "source": [
    "### 9b. Counts of categorical values in Cancelled column"
   ]
  },
  {
   "cell_type": "code",
   "execution_count": 22,
   "id": "7dfcbc60",
   "metadata": {
    "scrolled": true
   },
   "outputs": [
    {
     "data": {
      "text/plain": [
       "0    2540961\n",
       "1      70931\n",
       "Name: Cancelled, dtype: int64"
      ]
     },
     "execution_count": 22,
     "metadata": {},
     "output_type": "execute_result"
    }
   ],
   "source": [
    "ddf['Cancelled'].value_counts().compute()"
   ]
  },
  {
   "cell_type": "markdown",
   "id": "0cf7f3c9",
   "metadata": {},
   "source": [
    "### 9c. Calculate the max value of the DepDelay column."
   ]
  },
  {
   "cell_type": "code",
   "execution_count": 23,
   "id": "b4ca9169",
   "metadata": {
    "scrolled": false
   },
   "outputs": [
    {
     "data": {
      "text/plain": [
       "1435.0"
      ]
     },
     "execution_count": 23,
     "metadata": {},
     "output_type": "execute_result"
    }
   ],
   "source": [
    "ddf.DepDelay.max().compute()"
   ]
  },
  {
   "cell_type": "markdown",
   "id": "23778ac6",
   "metadata": {},
   "source": [
    "### 9d. Find rows where the flights are cancelled"
   ]
  },
  {
   "cell_type": "code",
   "execution_count": 24,
   "id": "8abf3c7d",
   "metadata": {
    "scrolled": false
   },
   "outputs": [
    {
     "data": {
      "text/html": [
       "<div>\n",
       "<style scoped>\n",
       "    .dataframe tbody tr th:only-of-type {\n",
       "        vertical-align: middle;\n",
       "    }\n",
       "\n",
       "    .dataframe tbody tr th {\n",
       "        vertical-align: top;\n",
       "    }\n",
       "\n",
       "    .dataframe thead th {\n",
       "        text-align: right;\n",
       "    }\n",
       "</style>\n",
       "<table border=\"1\" class=\"dataframe\">\n",
       "  <thead>\n",
       "    <tr style=\"text-align: right;\">\n",
       "      <th></th>\n",
       "      <th>Date</th>\n",
       "      <th>DayOfWeek</th>\n",
       "      <th>DepTime</th>\n",
       "      <th>CRSDepTime</th>\n",
       "      <th>ArrTime</th>\n",
       "      <th>CRSArrTime</th>\n",
       "      <th>UniqueCarrier</th>\n",
       "      <th>FlightNum</th>\n",
       "      <th>TailNum</th>\n",
       "      <th>ActualElapsedTime</th>\n",
       "      <th>...</th>\n",
       "      <th>AirTime</th>\n",
       "      <th>ArrDelay</th>\n",
       "      <th>DepDelay</th>\n",
       "      <th>Origin</th>\n",
       "      <th>Dest</th>\n",
       "      <th>Distance</th>\n",
       "      <th>TaxiIn</th>\n",
       "      <th>TaxiOut</th>\n",
       "      <th>Cancelled</th>\n",
       "      <th>Diverted</th>\n",
       "    </tr>\n",
       "  </thead>\n",
       "  <tbody>\n",
       "    <tr>\n",
       "      <th>37</th>\n",
       "      <td>1990-01-08</td>\n",
       "      <td>1</td>\n",
       "      <td>NaN</td>\n",
       "      <td>2050</td>\n",
       "      <td>NaN</td>\n",
       "      <td>2203</td>\n",
       "      <td>US</td>\n",
       "      <td>38</td>\n",
       "      <td>NaN</td>\n",
       "      <td>NaN</td>\n",
       "      <td>...</td>\n",
       "      <td>NaN</td>\n",
       "      <td>NaN</td>\n",
       "      <td>NaN</td>\n",
       "      <td>LGA</td>\n",
       "      <td>ORF</td>\n",
       "      <td>296.0</td>\n",
       "      <td>NaN</td>\n",
       "      <td>NaN</td>\n",
       "      <td>1</td>\n",
       "      <td>0</td>\n",
       "    </tr>\n",
       "    <tr>\n",
       "      <th>55</th>\n",
       "      <td>1990-01-29</td>\n",
       "      <td>1</td>\n",
       "      <td>NaN</td>\n",
       "      <td>2050</td>\n",
       "      <td>NaN</td>\n",
       "      <td>2203</td>\n",
       "      <td>US</td>\n",
       "      <td>38</td>\n",
       "      <td>NaN</td>\n",
       "      <td>NaN</td>\n",
       "      <td>...</td>\n",
       "      <td>NaN</td>\n",
       "      <td>NaN</td>\n",
       "      <td>NaN</td>\n",
       "      <td>LGA</td>\n",
       "      <td>ORF</td>\n",
       "      <td>296.0</td>\n",
       "      <td>NaN</td>\n",
       "      <td>NaN</td>\n",
       "      <td>1</td>\n",
       "      <td>0</td>\n",
       "    </tr>\n",
       "    <tr>\n",
       "      <th>61</th>\n",
       "      <td>1990-01-04</td>\n",
       "      <td>4</td>\n",
       "      <td>NaN</td>\n",
       "      <td>1850</td>\n",
       "      <td>NaN</td>\n",
       "      <td>1948</td>\n",
       "      <td>US</td>\n",
       "      <td>42</td>\n",
       "      <td>NaN</td>\n",
       "      <td>NaN</td>\n",
       "      <td>...</td>\n",
       "      <td>NaN</td>\n",
       "      <td>NaN</td>\n",
       "      <td>NaN</td>\n",
       "      <td>EWR</td>\n",
       "      <td>SYR</td>\n",
       "      <td>194.0</td>\n",
       "      <td>NaN</td>\n",
       "      <td>NaN</td>\n",
       "      <td>1</td>\n",
       "      <td>0</td>\n",
       "    </tr>\n",
       "    <tr>\n",
       "      <th>207</th>\n",
       "      <td>1990-01-01</td>\n",
       "      <td>1</td>\n",
       "      <td>NaN</td>\n",
       "      <td>645</td>\n",
       "      <td>NaN</td>\n",
       "      <td>850</td>\n",
       "      <td>US</td>\n",
       "      <td>93</td>\n",
       "      <td>NaN</td>\n",
       "      <td>NaN</td>\n",
       "      <td>...</td>\n",
       "      <td>NaN</td>\n",
       "      <td>NaN</td>\n",
       "      <td>NaN</td>\n",
       "      <td>LGA</td>\n",
       "      <td>IND</td>\n",
       "      <td>659.0</td>\n",
       "      <td>NaN</td>\n",
       "      <td>NaN</td>\n",
       "      <td>1</td>\n",
       "      <td>0</td>\n",
       "    </tr>\n",
       "    <tr>\n",
       "      <th>259</th>\n",
       "      <td>1990-01-25</td>\n",
       "      <td>4</td>\n",
       "      <td>NaN</td>\n",
       "      <td>1755</td>\n",
       "      <td>NaN</td>\n",
       "      <td>1942</td>\n",
       "      <td>US</td>\n",
       "      <td>105</td>\n",
       "      <td>NaN</td>\n",
       "      <td>NaN</td>\n",
       "      <td>...</td>\n",
       "      <td>NaN</td>\n",
       "      <td>NaN</td>\n",
       "      <td>NaN</td>\n",
       "      <td>JFK</td>\n",
       "      <td>PIT</td>\n",
       "      <td>340.0</td>\n",
       "      <td>NaN</td>\n",
       "      <td>NaN</td>\n",
       "      <td>1</td>\n",
       "      <td>0</td>\n",
       "    </tr>\n",
       "    <tr>\n",
       "      <th>...</th>\n",
       "      <td>...</td>\n",
       "      <td>...</td>\n",
       "      <td>...</td>\n",
       "      <td>...</td>\n",
       "      <td>...</td>\n",
       "      <td>...</td>\n",
       "      <td>...</td>\n",
       "      <td>...</td>\n",
       "      <td>...</td>\n",
       "      <td>...</td>\n",
       "      <td>...</td>\n",
       "      <td>...</td>\n",
       "      <td>...</td>\n",
       "      <td>...</td>\n",
       "      <td>...</td>\n",
       "      <td>...</td>\n",
       "      <td>...</td>\n",
       "      <td>...</td>\n",
       "      <td>...</td>\n",
       "      <td>...</td>\n",
       "      <td>...</td>\n",
       "    </tr>\n",
       "    <tr>\n",
       "      <th>268926</th>\n",
       "      <td>1999-12-20</td>\n",
       "      <td>1</td>\n",
       "      <td>NaN</td>\n",
       "      <td>1846</td>\n",
       "      <td>NaN</td>\n",
       "      <td>2103</td>\n",
       "      <td>UA</td>\n",
       "      <td>1609</td>\n",
       "      <td>UNKNOW</td>\n",
       "      <td>NaN</td>\n",
       "      <td>...</td>\n",
       "      <td>NaN</td>\n",
       "      <td>NaN</td>\n",
       "      <td>NaN</td>\n",
       "      <td>EWR</td>\n",
       "      <td>DEN</td>\n",
       "      <td>1605.0</td>\n",
       "      <td>0.0</td>\n",
       "      <td>0.0</td>\n",
       "      <td>1</td>\n",
       "      <td>0</td>\n",
       "    </tr>\n",
       "    <tr>\n",
       "      <th>269031</th>\n",
       "      <td>1999-12-16</td>\n",
       "      <td>4</td>\n",
       "      <td>NaN</td>\n",
       "      <td>615</td>\n",
       "      <td>NaN</td>\n",
       "      <td>829</td>\n",
       "      <td>UA</td>\n",
       "      <td>401</td>\n",
       "      <td>UNKNOW</td>\n",
       "      <td>NaN</td>\n",
       "      <td>...</td>\n",
       "      <td>NaN</td>\n",
       "      <td>NaN</td>\n",
       "      <td>NaN</td>\n",
       "      <td>LGA</td>\n",
       "      <td>DEN</td>\n",
       "      <td>1619.0</td>\n",
       "      <td>0.0</td>\n",
       "      <td>0.0</td>\n",
       "      <td>1</td>\n",
       "      <td>0</td>\n",
       "    </tr>\n",
       "    <tr>\n",
       "      <th>269093</th>\n",
       "      <td>1999-12-14</td>\n",
       "      <td>2</td>\n",
       "      <td>NaN</td>\n",
       "      <td>1650</td>\n",
       "      <td>NaN</td>\n",
       "      <td>1906</td>\n",
       "      <td>UA</td>\n",
       "      <td>785</td>\n",
       "      <td>UNKNOW</td>\n",
       "      <td>NaN</td>\n",
       "      <td>...</td>\n",
       "      <td>NaN</td>\n",
       "      <td>NaN</td>\n",
       "      <td>NaN</td>\n",
       "      <td>LGA</td>\n",
       "      <td>DEN</td>\n",
       "      <td>1619.0</td>\n",
       "      <td>0.0</td>\n",
       "      <td>0.0</td>\n",
       "      <td>1</td>\n",
       "      <td>0</td>\n",
       "    </tr>\n",
       "    <tr>\n",
       "      <th>269153</th>\n",
       "      <td>1999-12-17</td>\n",
       "      <td>5</td>\n",
       "      <td>NaN</td>\n",
       "      <td>1400</td>\n",
       "      <td>NaN</td>\n",
       "      <td>1613</td>\n",
       "      <td>UA</td>\n",
       "      <td>1691</td>\n",
       "      <td>UNKNOW</td>\n",
       "      <td>NaN</td>\n",
       "      <td>...</td>\n",
       "      <td>NaN</td>\n",
       "      <td>NaN</td>\n",
       "      <td>NaN</td>\n",
       "      <td>LGA</td>\n",
       "      <td>DEN</td>\n",
       "      <td>1619.0</td>\n",
       "      <td>0.0</td>\n",
       "      <td>0.0</td>\n",
       "      <td>1</td>\n",
       "      <td>0</td>\n",
       "    </tr>\n",
       "    <tr>\n",
       "      <th>269154</th>\n",
       "      <td>1999-12-20</td>\n",
       "      <td>1</td>\n",
       "      <td>NaN</td>\n",
       "      <td>1400</td>\n",
       "      <td>NaN</td>\n",
       "      <td>1613</td>\n",
       "      <td>UA</td>\n",
       "      <td>1691</td>\n",
       "      <td>UNKNOW</td>\n",
       "      <td>NaN</td>\n",
       "      <td>...</td>\n",
       "      <td>NaN</td>\n",
       "      <td>NaN</td>\n",
       "      <td>NaN</td>\n",
       "      <td>LGA</td>\n",
       "      <td>DEN</td>\n",
       "      <td>1619.0</td>\n",
       "      <td>0.0</td>\n",
       "      <td>0.0</td>\n",
       "      <td>1</td>\n",
       "      <td>0</td>\n",
       "    </tr>\n",
       "  </tbody>\n",
       "</table>\n",
       "<p>70931 rows × 21 columns</p>\n",
       "</div>"
      ],
      "text/plain": [
       "             Date  DayOfWeek  DepTime  CRSDepTime  ArrTime  CRSArrTime  \\\n",
       "37     1990-01-08          1      NaN        2050      NaN        2203   \n",
       "55     1990-01-29          1      NaN        2050      NaN        2203   \n",
       "61     1990-01-04          4      NaN        1850      NaN        1948   \n",
       "207    1990-01-01          1      NaN         645      NaN         850   \n",
       "259    1990-01-25          4      NaN        1755      NaN        1942   \n",
       "...           ...        ...      ...         ...      ...         ...   \n",
       "268926 1999-12-20          1      NaN        1846      NaN        2103   \n",
       "269031 1999-12-16          4      NaN         615      NaN         829   \n",
       "269093 1999-12-14          2      NaN        1650      NaN        1906   \n",
       "269153 1999-12-17          5      NaN        1400      NaN        1613   \n",
       "269154 1999-12-20          1      NaN        1400      NaN        1613   \n",
       "\n",
       "       UniqueCarrier  FlightNum TailNum  ActualElapsedTime  ...  AirTime  \\\n",
       "37                US         38     NaN                NaN  ...      NaN   \n",
       "55                US         38     NaN                NaN  ...      NaN   \n",
       "61                US         42     NaN                NaN  ...      NaN   \n",
       "207               US         93     NaN                NaN  ...      NaN   \n",
       "259               US        105     NaN                NaN  ...      NaN   \n",
       "...              ...        ...     ...                ...  ...      ...   \n",
       "268926            UA       1609  UNKNOW                NaN  ...      NaN   \n",
       "269031            UA        401  UNKNOW                NaN  ...      NaN   \n",
       "269093            UA        785  UNKNOW                NaN  ...      NaN   \n",
       "269153            UA       1691  UNKNOW                NaN  ...      NaN   \n",
       "269154            UA       1691  UNKNOW                NaN  ...      NaN   \n",
       "\n",
       "        ArrDelay  DepDelay  Origin Dest Distance  TaxiIn  TaxiOut  Cancelled  \\\n",
       "37           NaN       NaN     LGA  ORF    296.0     NaN      NaN          1   \n",
       "55           NaN       NaN     LGA  ORF    296.0     NaN      NaN          1   \n",
       "61           NaN       NaN     EWR  SYR    194.0     NaN      NaN          1   \n",
       "207          NaN       NaN     LGA  IND    659.0     NaN      NaN          1   \n",
       "259          NaN       NaN     JFK  PIT    340.0     NaN      NaN          1   \n",
       "...          ...       ...     ...  ...      ...     ...      ...        ...   \n",
       "268926       NaN       NaN     EWR  DEN   1605.0     0.0      0.0          1   \n",
       "269031       NaN       NaN     LGA  DEN   1619.0     0.0      0.0          1   \n",
       "269093       NaN       NaN     LGA  DEN   1619.0     0.0      0.0          1   \n",
       "269153       NaN       NaN     LGA  DEN   1619.0     0.0      0.0          1   \n",
       "269154       NaN       NaN     LGA  DEN   1619.0     0.0      0.0          1   \n",
       "\n",
       "        Diverted  \n",
       "37             0  \n",
       "55             0  \n",
       "61             0  \n",
       "207            0  \n",
       "259            0  \n",
       "...          ...  \n",
       "268926         0  \n",
       "269031         0  \n",
       "269093         0  \n",
       "269153         0  \n",
       "269154         0  \n",
       "\n",
       "[70931 rows x 21 columns]"
      ]
     },
     "execution_count": 24,
     "metadata": {},
     "output_type": "execute_result"
    }
   ],
   "source": [
    "ddf.loc[ddf['Cancelled']== True].compute()\n",
    "#Or\n",
    "ddf.loc[ddf['Cancelled']== 1].compute()"
   ]
  },
  {
   "cell_type": "markdown",
   "id": "98fed4e6",
   "metadata": {},
   "source": [
    "### 9e. How many observations are there where the Dayofweek column equals 1?"
   ]
  },
  {
   "cell_type": "code",
   "execution_count": 25,
   "id": "6fd6dbd8",
   "metadata": {},
   "outputs": [
    {
     "data": {
      "text/plain": [
       "388011"
      ]
     },
     "execution_count": 25,
     "metadata": {},
     "output_type": "execute_result"
    }
   ],
   "source": [
    "len(ddf.loc[ddf['DayOfWeek'] == 1])\n",
    "#Or\n",
    "ddf.loc[ddf['DayOfWeek'] == 1].shape[0].compute()"
   ]
  },
  {
   "cell_type": "markdown",
   "id": "6595d4ab",
   "metadata": {},
   "source": [
    "### 9f. In total, how many non-cancelled flights were taken from each Origin airport?"
   ]
  },
  {
   "cell_type": "code",
   "execution_count": 26,
   "id": "212e6800",
   "metadata": {},
   "outputs": [
    {
     "data": {
      "text/plain": [
       "Origin\n",
       "EWR    1139451\n",
       "JFK     427243\n",
       "LGA     974267\n",
       "Name: Cancelled, dtype: int64"
      ]
     },
     "execution_count": 26,
     "metadata": {},
     "output_type": "execute_result"
    }
   ],
   "source": [
    "ddf.loc[ddf['Cancelled']== False].groupby('Origin')['Cancelled'].count().compute()"
   ]
  },
  {
   "cell_type": "markdown",
   "id": "efa05946",
   "metadata": {},
   "source": [
    "### BONUS: ratio of non-cancelled to total flights from each Origin airport"
   ]
  },
  {
   "cell_type": "code",
   "execution_count": 27,
   "id": "982819c1",
   "metadata": {
    "scrolled": true
   },
   "outputs": [
    {
     "data": {
      "text/plain": [
       "Origin\n",
       "EWR    0.970463\n",
       "JFK    0.983658\n",
       "LGA    0.970946\n",
       "Name: Cancelled, dtype: float64"
      ]
     },
     "execution_count": 27,
     "metadata": {},
     "output_type": "execute_result"
    }
   ],
   "source": [
    "ddf_flew = ddf.loc[ddf['Cancelled']== False].groupby('Origin')['Cancelled'].count().compute()\n",
    "\n",
    "ddf_cancel = ddf.loc[ddf['Cancelled']== True].groupby('Origin')['Cancelled'].count().compute()\n",
    "\n",
    "ddf_total = ddf_flew + ddf_cancel\n",
    "\n",
    "ddf_flew / ddf_total"
   ]
  },
  {
   "cell_type": "markdown",
   "id": "a41d6281",
   "metadata": {},
   "source": [
    "### 9g. Average departure delay from each Origin airport by dayofweek"
   ]
  },
  {
   "cell_type": "code",
   "execution_count": 28,
   "id": "351b741b",
   "metadata": {
    "scrolled": false
   },
   "outputs": [
    {
     "data": {
      "text/plain": [
       "Origin  DayOfWeek\n",
       "EWR     1             9.115922\n",
       "        2             9.179402\n",
       "        3            10.606154\n",
       "        4            12.069740\n",
       "        5            13.154202\n",
       "        6             8.053139\n",
       "        7             9.432185\n",
       "JFK     1             8.884113\n",
       "        2             8.841036\n",
       "        3             9.448858\n",
       "        4            10.846967\n",
       "        5            12.339922\n",
       "        6            11.191893\n",
       "        7            10.947545\n",
       "LGA     1             6.580465\n",
       "        2             6.659778\n",
       "        3             7.311600\n",
       "        4             8.620151\n",
       "        5             9.151866\n",
       "        6             5.800159\n",
       "        7             7.589457\n",
       "Name: DepDelay, dtype: float64"
      ]
     },
     "execution_count": 28,
     "metadata": {},
     "output_type": "execute_result"
    }
   ],
   "source": [
    "ddf.groupby([\"Origin\", \"DayOfWeek\"])[\"DepDelay\"].mean().compute()"
   ]
  },
  {
   "cell_type": "markdown",
   "id": "b6dbeaa2",
   "metadata": {},
   "source": [
    "### 9h.\tFor each of the three NYC area airports as the Destination, compute the means of all columns"
   ]
  },
  {
   "cell_type": "code",
   "execution_count": 29,
   "id": "cf3b372c",
   "metadata": {
    "scrolled": true
   },
   "outputs": [
    {
     "name": "stderr",
     "output_type": "stream",
     "text": [
      "C:\\Users\\u0625859\\Anaconda3\\envs\\daskpy\\lib\\site-packages\\dask\\utils.py:1022: FutureWarning: The default value of numeric_only in DataFrameGroupBy.sum is deprecated. In a future version, numeric_only will default to False. Either specify numeric_only or select only columns which should be valid for the function.\n",
      "  return getattr(__obj, self.method)(*args, **kwargs)\n"
     ]
    },
    {
     "data": {
      "text/html": [
       "<div>\n",
       "<style scoped>\n",
       "    .dataframe tbody tr th:only-of-type {\n",
       "        vertical-align: middle;\n",
       "    }\n",
       "\n",
       "    .dataframe tbody tr th {\n",
       "        vertical-align: top;\n",
       "    }\n",
       "\n",
       "    .dataframe thead th {\n",
       "        text-align: right;\n",
       "    }\n",
       "</style>\n",
       "<table border=\"1\" class=\"dataframe\">\n",
       "  <thead>\n",
       "    <tr style=\"text-align: right;\">\n",
       "      <th></th>\n",
       "      <th>DayOfWeek</th>\n",
       "      <th>DepTime</th>\n",
       "      <th>CRSDepTime</th>\n",
       "      <th>ArrTime</th>\n",
       "      <th>CRSArrTime</th>\n",
       "      <th>FlightNum</th>\n",
       "      <th>ActualElapsedTime</th>\n",
       "      <th>CRSElapsedTime</th>\n",
       "      <th>AirTime</th>\n",
       "      <th>ArrDelay</th>\n",
       "      <th>DepDelay</th>\n",
       "      <th>Distance</th>\n",
       "      <th>TaxiIn</th>\n",
       "      <th>TaxiOut</th>\n",
       "      <th>Cancelled</th>\n",
       "      <th>Diverted</th>\n",
       "    </tr>\n",
       "    <tr>\n",
       "      <th>Dest</th>\n",
       "      <th></th>\n",
       "      <th></th>\n",
       "      <th></th>\n",
       "      <th></th>\n",
       "      <th></th>\n",
       "      <th></th>\n",
       "      <th></th>\n",
       "      <th></th>\n",
       "      <th></th>\n",
       "      <th></th>\n",
       "      <th></th>\n",
       "      <th></th>\n",
       "      <th></th>\n",
       "      <th></th>\n",
       "      <th></th>\n",
       "      <th></th>\n",
       "    </tr>\n",
       "  </thead>\n",
       "  <tbody>\n",
       "    <tr>\n",
       "      <th>EWR</th>\n",
       "      <td>3.838710</td>\n",
       "      <td>1216.100000</td>\n",
       "      <td>885.483871</td>\n",
       "      <td>1068.833333</td>\n",
       "      <td>845.612903</td>\n",
       "      <td>559.225806</td>\n",
       "      <td>45.166667</td>\n",
       "      <td>32.233333</td>\n",
       "      <td>27.777778</td>\n",
       "      <td>34.583333</td>\n",
       "      <td>23.766667</td>\n",
       "      <td>19.064516</td>\n",
       "      <td>7.111111</td>\n",
       "      <td>23.666667</td>\n",
       "      <td>0.032258</td>\n",
       "      <td>0.193548</td>\n",
       "    </tr>\n",
       "    <tr>\n",
       "      <th>LGA</th>\n",
       "      <td>4.625000</td>\n",
       "      <td>1313.500000</td>\n",
       "      <td>795.000000</td>\n",
       "      <td>1164.833333</td>\n",
       "      <td>821.375000</td>\n",
       "      <td>2310.500000</td>\n",
       "      <td>37.500000</td>\n",
       "      <td>31.125000</td>\n",
       "      <td>8.800000</td>\n",
       "      <td>25.500000</td>\n",
       "      <td>37.000000</td>\n",
       "      <td>14.750000</td>\n",
       "      <td>7.200000</td>\n",
       "      <td>18.400000</td>\n",
       "      <td>0.000000</td>\n",
       "      <td>0.250000</td>\n",
       "    </tr>\n",
       "    <tr>\n",
       "      <th>JFK</th>\n",
       "      <td>5.166667</td>\n",
       "      <td>1652.166667</td>\n",
       "      <td>1679.833333</td>\n",
       "      <td>1765.000000</td>\n",
       "      <td>1731.666667</td>\n",
       "      <td>1009.666667</td>\n",
       "      <td>59.500000</td>\n",
       "      <td>30.166667</td>\n",
       "      <td>19.500000</td>\n",
       "      <td>114.166667</td>\n",
       "      <td>84.833333</td>\n",
       "      <td>17.666667</td>\n",
       "      <td>7.000000</td>\n",
       "      <td>18.500000</td>\n",
       "      <td>0.000000</td>\n",
       "      <td>0.000000</td>\n",
       "    </tr>\n",
       "  </tbody>\n",
       "</table>\n",
       "</div>"
      ],
      "text/plain": [
       "      DayOfWeek      DepTime   CRSDepTime      ArrTime   CRSArrTime  \\\n",
       "Dest                                                                  \n",
       "EWR    3.838710  1216.100000   885.483871  1068.833333   845.612903   \n",
       "LGA    4.625000  1313.500000   795.000000  1164.833333   821.375000   \n",
       "JFK    5.166667  1652.166667  1679.833333  1765.000000  1731.666667   \n",
       "\n",
       "        FlightNum  ActualElapsedTime  CRSElapsedTime    AirTime    ArrDelay  \\\n",
       "Dest                                                                          \n",
       "EWR    559.225806          45.166667       32.233333  27.777778   34.583333   \n",
       "LGA   2310.500000          37.500000       31.125000   8.800000   25.500000   \n",
       "JFK   1009.666667          59.500000       30.166667  19.500000  114.166667   \n",
       "\n",
       "       DepDelay   Distance    TaxiIn    TaxiOut  Cancelled  Diverted  \n",
       "Dest                                                                  \n",
       "EWR   23.766667  19.064516  7.111111  23.666667   0.032258  0.193548  \n",
       "LGA   37.000000  14.750000  7.200000  18.400000   0.000000  0.250000  \n",
       "JFK   84.833333  17.666667  7.000000  18.500000   0.000000  0.000000  "
      ]
     },
     "execution_count": 29,
     "metadata": {},
     "output_type": "execute_result"
    }
   ],
   "source": [
    "ddf[ddf[\"Dest\"].isin(['JFK', 'EWR', 'LGA'])].groupby('Dest').mean().compute()\n",
    "#or\n",
    "ddf.loc[(ddf[\"Dest\"] =='JFK') | (ddf[\"Dest\"] =='EWR') | (ddf[\"Dest\"] =='LGA')].groupby('Dest').mean().compute()"
   ]
  },
  {
   "cell_type": "markdown",
   "id": "4abf444f",
   "metadata": {},
   "source": [
    "### 9i. For each year, compute the maximum values of ActualElapsedTime and Distance"
   ]
  },
  {
   "cell_type": "code",
   "execution_count": 30,
   "id": "5c77c232",
   "metadata": {
    "scrolled": true
   },
   "outputs": [
    {
     "data": {
      "text/html": [
       "<div>\n",
       "<style scoped>\n",
       "    .dataframe tbody tr th:only-of-type {\n",
       "        vertical-align: middle;\n",
       "    }\n",
       "\n",
       "    .dataframe tbody tr th {\n",
       "        vertical-align: top;\n",
       "    }\n",
       "\n",
       "    .dataframe thead th {\n",
       "        text-align: right;\n",
       "    }\n",
       "</style>\n",
       "<table border=\"1\" class=\"dataframe\">\n",
       "  <thead>\n",
       "    <tr style=\"text-align: right;\">\n",
       "      <th></th>\n",
       "      <th>ActualElapsedTime</th>\n",
       "      <th>Distance</th>\n",
       "    </tr>\n",
       "    <tr>\n",
       "      <th>Date</th>\n",
       "      <th></th>\n",
       "      <th></th>\n",
       "    </tr>\n",
       "  </thead>\n",
       "  <tbody>\n",
       "    <tr>\n",
       "      <th>1990</th>\n",
       "      <td>595.0</td>\n",
       "      <td>2586.0</td>\n",
       "    </tr>\n",
       "    <tr>\n",
       "      <th>1991</th>\n",
       "      <td>632.0</td>\n",
       "      <td>2586.0</td>\n",
       "    </tr>\n",
       "    <tr>\n",
       "      <th>1992</th>\n",
       "      <td>703.0</td>\n",
       "      <td>2586.0</td>\n",
       "    </tr>\n",
       "    <tr>\n",
       "      <th>1993</th>\n",
       "      <td>675.0</td>\n",
       "      <td>2586.0</td>\n",
       "    </tr>\n",
       "    <tr>\n",
       "      <th>1994</th>\n",
       "      <td>647.0</td>\n",
       "      <td>2586.0</td>\n",
       "    </tr>\n",
       "    <tr>\n",
       "      <th>1995</th>\n",
       "      <td>581.0</td>\n",
       "      <td>2586.0</td>\n",
       "    </tr>\n",
       "    <tr>\n",
       "      <th>1996</th>\n",
       "      <td>620.0</td>\n",
       "      <td>2586.0</td>\n",
       "    </tr>\n",
       "    <tr>\n",
       "      <th>1997</th>\n",
       "      <td>587.0</td>\n",
       "      <td>2586.0</td>\n",
       "    </tr>\n",
       "    <tr>\n",
       "      <th>1998</th>\n",
       "      <td>743.0</td>\n",
       "      <td>4962.0</td>\n",
       "    </tr>\n",
       "    <tr>\n",
       "      <th>1999</th>\n",
       "      <td>795.0</td>\n",
       "      <td>4962.0</td>\n",
       "    </tr>\n",
       "  </tbody>\n",
       "</table>\n",
       "</div>"
      ],
      "text/plain": [
       "      ActualElapsedTime  Distance\n",
       "Date                             \n",
       "1990              595.0    2586.0\n",
       "1991              632.0    2586.0\n",
       "1992              703.0    2586.0\n",
       "1993              675.0    2586.0\n",
       "1994              647.0    2586.0\n",
       "1995              581.0    2586.0\n",
       "1996              620.0    2586.0\n",
       "1997              587.0    2586.0\n",
       "1998              743.0    4962.0\n",
       "1999              795.0    4962.0"
      ]
     },
     "execution_count": 30,
     "metadata": {},
     "output_type": "execute_result"
    }
   ],
   "source": [
    "ddf.groupby(ddf['Date'].dt.year)[['ActualElapsedTime','Distance']].max().compute()\n",
    "#or\n",
    "ddf[['ActualElapsedTime','Distance']].groupby(ddf['Date'].dt.year).max().compute()"
   ]
  },
  {
   "cell_type": "markdown",
   "id": "d4346a7b",
   "metadata": {},
   "source": [
    "## Task 10. Visualizing Dask task graphs"
   ]
  },
  {
   "cell_type": "markdown",
   "id": "12695a4c",
   "metadata": {},
   "source": [
    "We view the underlying task graph using the .visualize method.\n"
   ]
  },
  {
   "cell_type": "code",
   "execution_count": 31,
   "id": "ec850ea4",
   "metadata": {
    "scrolled": true
   },
   "outputs": [
    {
     "data": {
      "image/png": "[encoded data removed]",
      "text/plain": [
       "<IPython.core.display.Image object>"
      ]
     },
     "execution_count": 31,
     "metadata": {},
     "output_type": "execute_result"
    }
   ],
   "source": [
    "ddf.groupby(\"Dest\")[\"ArrDelay\"].min().visualize()"
   ]
  },
  {
   "cell_type": "markdown",
   "id": "ca267a44",
   "metadata": {},
   "source": [
    "## Task 11. Use Distributed Task Scheduler"
   ]
  },
  {
   "cell_type": "markdown",
   "id": "aabdc2d6",
   "metadata": {},
   "source": [
    "Once we have set up a task graph, we neeed a scheduler to execute it.\\\n",
    "It is recommended to use the distributed scheduler even if you will only be performing all tasks on a single machine (and using threads for parallelization).\n",
    "\n",
    "Set up a local cluster that uses only your own computer."
   ]
  },
  {
   "cell_type": "code",
   "execution_count": 32,
   "id": "919d8356",
   "metadata": {
    "scrolled": false
   },
   "outputs": [
    {
     "name": "stdout",
     "output_type": "stream",
     "text": [
      "<Client: 'tcp://127.0.0.1:65347' processes=4 threads=8, memory=3.73 GiB>\n"
     ]
    },
    {
     "data": {
      "application/vnd.jupyter.widget-view+json": {
       "model_id": "70ecec752c554691a45dd640048ce661",
       "version_major": 2,
       "version_minor": 0
      },
      "text/plain": [
       "Tab(children=(HTML(value='<div class=\"jp-RenderedHTMLCommon jp-RenderedHTML jp-mod-trusted jp-OutputArea-outpu…"
      ]
     },
     "metadata": {},
     "output_type": "display_data"
    }
   ],
   "source": [
    "# to call the below line of code (in the next cell), we need to first establish a distributed client (and cluster).\n",
    "\n",
    "\n",
    "from dask.distributed import Client\n",
    "\n",
    "client = Client(n_workers = 4 , threads_per_worker=2, memory_limit = '1GB', processes = True)\n",
    "print(client)\n",
    "client.cluster\n",
    "\n",
    "# As soon as you create a client, Dask will automatically start using it."
   ]
  },
  {
   "cell_type": "code",
   "execution_count": 33,
   "id": "07dde840",
   "metadata": {},
   "outputs": [],
   "source": [
    "from dask.diagnostics import ProgressBar \n",
    "ProgressBar().register()"
   ]
  },
  {
   "cell_type": "code",
   "execution_count": 34,
   "id": "55dd18d2",
   "metadata": {
    "scrolled": false
   },
   "outputs": [
    {
     "data": {
      "text/plain": [
       "Dest\n",
       "ABE    -33.0\n",
       "ALB    -26.0\n",
       "ATL   -311.0\n",
       "BDL    -39.0\n",
       "BGR    -30.0\n",
       "       ...  \n",
       "AUS    -65.0\n",
       "CRP    -16.0\n",
       "HNL    -63.0\n",
       "BHM    -30.0\n",
       "TUS    -55.0\n",
       "Name: ArrDelay, Length: 99, dtype: float64"
      ]
     },
     "execution_count": 34,
     "metadata": {},
     "output_type": "execute_result"
    }
   ],
   "source": [
    "# run the followng command and then click on Dashboard to view the distributed scheduler at work\n",
    "ddf.groupby(\"Dest\")[\"ArrDelay\"].min().compute()\n"
   ]
  },
  {
   "cell_type": "markdown",
   "id": "f1110e62",
   "metadata": {},
   "source": [
    "## Task 12. Using a different scheduler for specifc tasks"
   ]
  },
  {
   "cell_type": "code",
   "execution_count": 35,
   "id": "dc03ed89",
   "metadata": {
    "scrolled": true
   },
   "outputs": [
    {
     "name": "stdout",
     "output_type": "stream",
     "text": [
      "[                                        ] | 0% Completed |  0.1s"
     ]
    },
    {
     "name": "stderr",
     "output_type": "stream",
     "text": [
      "C:\\Users\\u0625859\\Anaconda3\\envs\\daskpy\\lib\\site-packages\\dask\\base.py:1283: UserWarning: Running on a single-machine scheduler when a distributed client is active might lead to unexpected results.\n",
      "  warnings.warn(\n"
     ]
    },
    {
     "name": "stdout",
     "output_type": "stream",
     "text": [
      "[########################################] | 100% Completed |  2.8s\n"
     ]
    },
    {
     "data": {
      "text/plain": [
       "Dest\n",
       "ABE    -33.0\n",
       "ALB    -26.0\n",
       "ATL   -311.0\n",
       "BDL    -39.0\n",
       "BGR    -30.0\n",
       "       ...  \n",
       "AUS    -65.0\n",
       "CRP    -16.0\n",
       "HNL    -63.0\n",
       "BHM    -30.0\n",
       "TUS    -55.0\n",
       "Name: ArrDelay, Length: 99, dtype: float64"
      ]
     },
     "execution_count": 35,
     "metadata": {},
     "output_type": "execute_result"
    }
   ],
   "source": [
    "x = ddf.groupby(\"Dest\")[\"ArrDelay\"].min()\n",
    "x.compute(scheduler='threads')"
   ]
  },
  {
   "cell_type": "code",
   "execution_count": 36,
   "id": "c86298bb",
   "metadata": {},
   "outputs": [
    {
     "name": "stdout",
     "output_type": "stream",
     "text": [
      "[########################################] | 100% Completed |  3.9s\n",
      "Dest\n",
      "ABE    -33.0\n",
      "ALB    -26.0\n",
      "ATL   -311.0\n",
      "BDL    -39.0\n",
      "BGR    -30.0\n",
      "       ...  \n",
      "AUS    -65.0\n",
      "CRP    -16.0\n",
      "HNL    -63.0\n",
      "BHM    -30.0\n",
      "TUS    -55.0\n",
      "Name: ArrDelay, Length: 99, dtype: float64\n"
     ]
    }
   ],
   "source": [
    "with dask.config.set(scheduler='processes'):\n",
    "    print(x.compute())"
   ]
  },
  {
   "cell_type": "markdown",
   "id": "509e304d",
   "metadata": {},
   "source": [
    "A good rule of thumb for choosing number of threads per Dask worker is to choose the square root of the number of cores per node.\n",
    "- In general more threads per worker are good for a program that spends most of its time in NumPy, SciPy, Numba, etc., and fewer threads per worker are better for simpler programs that spend most of their time in the Python interpreter.\n",
    "\n"
   ]
  },
  {
   "cell_type": "markdown",
   "id": "92e076a5",
   "metadata": {},
   "source": [
    "The Dask distributed scheduler provides live feedback in two forms:\n",
    "- An interactive dashboard containing many plots and tables with live information\n",
    "- A progress bar suitable for interactive use in consoles or notebooks\n",
    "If Bokeh is installed then the dashboard will start up automatically whenever the scheduler is created. For local use this happens when you create a client with no arguments:\n",
    "    \n",
    "It is typically served at http://localhost:8787/status , but may be served elsewhere if this port is taken. The address of the dashboard will be displayed if you are in a Jupyter Notebook"
   ]
  },
  {
   "cell_type": "markdown",
   "id": "71f880be",
   "metadata": {},
   "source": [
    "# SECTION E. ML with DASK"
   ]
  },
  {
   "cell_type": "markdown",
   "id": "6a6d8dd5",
   "metadata": {},
   "source": [
    "## Task 1. Generate random classification data"
   ]
  },
  {
   "cell_type": "code",
   "execution_count": 37,
   "id": "354e0eaa",
   "metadata": {
    "scrolled": true
   },
   "outputs": [],
   "source": [
    "from sklearn.datasets import make_classification\n",
    "\n",
    "X, y = make_classification(n_samples=10000, n_features=4, random_state=42)\n"
   ]
  },
  {
   "cell_type": "code",
   "execution_count": 38,
   "id": "97e9e58d",
   "metadata": {},
   "outputs": [
    {
     "data": {
      "text/plain": [
       "array([[ 1.52264971, -0.93455988, -0.46502165,  0.05887383],\n",
       "       [ 1.04810323, -0.74680553,  0.43685274,  0.85962787],\n",
       "       [ 1.02421601, -0.44941167, -1.62343415, -1.37865568],\n",
       "       [-0.43466749,  0.2817535 ,  0.02329917, -0.13524348],\n",
       "       [ 1.42116496, -0.73157419, -1.46292601, -1.05843534],\n",
       "       [-1.50151205,  0.71480051,  1.9707597 ,  1.57830956],\n",
       "       [-2.4006012 ,  1.22484935,  2.55092622,  1.87422063],\n",
       "       [-3.37572558,  1.57900451,  4.63562047,  3.77013439]])"
      ]
     },
     "execution_count": 38,
     "metadata": {},
     "output_type": "execute_result"
    }
   ],
   "source": [
    "X[:8]"
   ]
  },
  {
   "cell_type": "code",
   "execution_count": 39,
   "id": "f949501f",
   "metadata": {
    "scrolled": true
   },
   "outputs": [
    {
     "data": {
      "text/plain": [
       "array([0, 1, 0, 1, 0, 1, 1, 1])"
      ]
     },
     "execution_count": 39,
     "metadata": {},
     "output_type": "execute_result"
    }
   ],
   "source": [
    "y[:8]"
   ]
  },
  {
   "cell_type": "markdown",
   "id": "fbe13581",
   "metadata": {},
   "source": [
    "## Task 2. Fit a SVC classifier"
   ]
  },
  {
   "cell_type": "code",
   "execution_count": 40,
   "id": "40076472",
   "metadata": {},
   "outputs": [
    {
     "data": {
      "text/plain": [
       "SVC(random_state=42)"
      ]
     },
     "execution_count": 40,
     "metadata": {},
     "output_type": "execute_result"
    }
   ],
   "source": [
    "from sklearn.svm import SVC\n",
    "\n",
    "estimator = SVC(random_state=42)\n",
    "estimator.fit(X, y)"
   ]
  },
  {
   "cell_type": "code",
   "execution_count": 41,
   "id": "b0170b10",
   "metadata": {
    "scrolled": false
   },
   "outputs": [
    {
     "data": {
      "text/plain": [
       "array([[ 0.50024005, -0.30339627, -0.17937237, -0.00943967],\n",
       "       [-0.95210041,  0.5179601 ,  0.77643959,  0.48873204],\n",
       "       [ 0.84900722, -0.45158997, -0.76758357, -0.51720528],\n",
       "       [-1.04563826,  0.58850073,  0.70899058,  0.38121538],\n",
       "       [ 1.32873515, -0.8217086 , -0.36069336,  0.10018613]])"
      ]
     },
     "execution_count": 41,
     "metadata": {},
     "output_type": "execute_result"
    }
   ],
   "source": [
    "# we have four attributes/features, so we will get four values\n",
    "estimator.support_vectors_[:5]"
   ]
  },
  {
   "cell_type": "code",
   "execution_count": 42,
   "id": "76632944",
   "metadata": {},
   "outputs": [
    {
     "data": {
      "text/plain": [
       "0.9367"
      ]
     },
     "execution_count": 42,
     "metadata": {},
     "output_type": "execute_result"
    }
   ],
   "source": [
    "estimator.score(X, y)"
   ]
  },
  {
   "cell_type": "markdown",
   "id": "6093c40b",
   "metadata": {},
   "source": [
    "## Task 3. Hyper-parameter tuning"
   ]
  },
  {
   "cell_type": "code",
   "execution_count": 43,
   "id": "ed7eefc2",
   "metadata": {
    "scrolled": false
   },
   "outputs": [
    {
     "data": {
      "text/plain": [
       "array([[ 1.52264971, -0.93455988, -0.46502165,  0.05887383],\n",
       "       [ 1.02421601, -0.44941167, -1.62343415, -1.37865568],\n",
       "       [ 1.42116496, -0.73157419, -1.46292601, -1.05843534],\n",
       "       [ 1.32275448, -0.7178123 , -1.09180165, -0.69316426],\n",
       "       [-1.35718018,  0.85088312,  0.28370498, -0.19399672]])"
      ]
     },
     "execution_count": 43,
     "metadata": {},
     "output_type": "execute_result"
    }
   ],
   "source": [
    "estimator = SVC(C=0.00001, shrinking=False, random_state=42)\n",
    "estimator.fit(X, y)\n",
    "estimator.support_vectors_[:5]"
   ]
  },
  {
   "cell_type": "code",
   "execution_count": 44,
   "id": "1804a414",
   "metadata": {
    "scrolled": false
   },
   "outputs": [
    {
     "data": {
      "text/plain": [
       "0.8887"
      ]
     },
     "execution_count": 44,
     "metadata": {},
     "output_type": "execute_result"
    }
   ],
   "source": [
    "estimator.score(X, y)"
   ]
  },
  {
   "cell_type": "markdown",
   "id": "0c86678d",
   "metadata": {},
   "source": [
    "## Task 4. Applying GridsearchCV on a single core"
   ]
  },
  {
   "cell_type": "code",
   "execution_count": 45,
   "id": "40ac0b8f",
   "metadata": {},
   "outputs": [],
   "source": [
    "from sklearn.model_selection import GridSearchCV"
   ]
  },
  {
   "cell_type": "code",
   "execution_count": 46,
   "id": "390add4d",
   "metadata": {},
   "outputs": [],
   "source": [
    "estimator = SVC(gamma='auto', probability=True,  random_state=42 )\n",
    "\n",
    "param_grid = {\n",
    "    'C': [0.001, 10.0],\n",
    "    'kernel': ['rbf', 'poly', 'linear'],\n",
    "}"
   ]
  },
  {
   "cell_type": "code",
   "execution_count": 47,
   "id": "f6db8555",
   "metadata": {},
   "outputs": [],
   "source": [
    "grid_search = GridSearchCV(estimator, \n",
    "                           param_grid, \n",
    "                           verbose=2, \n",
    "                           cv=2)"
   ]
  },
  {
   "cell_type": "code",
   "execution_count": 48,
   "id": "85da5d3b",
   "metadata": {
    "scrolled": true
   },
   "outputs": [
    {
     "name": "stdout",
     "output_type": "stream",
     "text": [
      "Fitting 2 folds for each of 6 candidates, totalling 12 fits\n",
      "[CV] END ................................C=0.001, kernel=rbf; total time=   6.3s\n",
      "[CV] END ................................C=0.001, kernel=rbf; total time=   5.7s\n",
      "[CV] END ...............................C=0.001, kernel=poly; total time=   2.1s\n",
      "[CV] END ...............................C=0.001, kernel=poly; total time=   2.0s\n",
      "[CV] END .............................C=0.001, kernel=linear; total time=   1.3s\n",
      "[CV] END .............................C=0.001, kernel=linear; total time=   1.3s\n",
      "[CV] END .................................C=10.0, kernel=rbf; total time=   0.9s\n",
      "[CV] END .................................C=10.0, kernel=rbf; total time=   0.9s\n",
      "[CV] END ................................C=10.0, kernel=poly; total time=   2.9s\n",
      "[CV] END ................................C=10.0, kernel=poly; total time=   2.8s\n",
      "[CV] END ..............................C=10.0, kernel=linear; total time=   2.4s\n",
      "[CV] END ..............................C=10.0, kernel=linear; total time=   2.4s\n",
      "Wall time: 35.3 s\n"
     ]
    },
    {
     "data": {
      "text/plain": [
       "GridSearchCV(cv=2,\n",
       "             estimator=SVC(gamma='auto', probability=True, random_state=42),\n",
       "             param_grid={'C': [0.001, 10.0],\n",
       "                         'kernel': ['rbf', 'poly', 'linear']},\n",
       "             verbose=2)"
      ]
     },
     "execution_count": 48,
     "metadata": {},
     "output_type": "execute_result"
    }
   ],
   "source": [
    "%time   grid_search.fit(X, y)"
   ]
  },
  {
   "cell_type": "code",
   "execution_count": 49,
   "id": "5bd49ded",
   "metadata": {},
   "outputs": [
    {
     "data": {
      "text/plain": [
       "({'C': 10.0, 'kernel': 'rbf'}, 0.9387000000000001)"
      ]
     },
     "execution_count": 49,
     "metadata": {},
     "output_type": "execute_result"
    }
   ],
   "source": [
    "grid_search.best_params_, grid_search.best_score_"
   ]
  },
  {
   "cell_type": "markdown",
   "id": "f9e52456",
   "metadata": {},
   "source": [
    "## Task 5. Applying GridSearchCV on multi-cores (native Scikit parallelism)"
   ]
  },
  {
   "cell_type": "code",
   "execution_count": 50,
   "id": "0b717a72",
   "metadata": {},
   "outputs": [
    {
     "name": "stdout",
     "output_type": "stream",
     "text": [
      "Number of CPUs in the system: 20\n"
     ]
    }
   ],
   "source": [
    "# first  let us check the number of CPU cores available on our machine\n",
    "\n",
    "import os\n",
    "  \n",
    "n_cpu = os.cpu_count()\n",
    "print(\"Number of CPUs in the system:\", n_cpu)"
   ]
  },
  {
   "cell_type": "code",
   "execution_count": 51,
   "id": "b9a6e942",
   "metadata": {},
   "outputs": [],
   "source": [
    "grid_search_MC = GridSearchCV(estimator, \n",
    "                              param_grid, \n",
    "                              verbose=2, \n",
    "                              cv=2, \n",
    "                              n_jobs=-1)"
   ]
  },
  {
   "cell_type": "code",
   "execution_count": 52,
   "id": "f88b7623",
   "metadata": {
    "scrolled": false
   },
   "outputs": [
    {
     "name": "stdout",
     "output_type": "stream",
     "text": [
      "Fitting 2 folds for each of 6 candidates, totalling 12 fits\n",
      "Wall time: 19.3 s\n"
     ]
    },
    {
     "data": {
      "text/plain": [
       "GridSearchCV(cv=2,\n",
       "             estimator=SVC(gamma='auto', probability=True, random_state=42),\n",
       "             n_jobs=-1,\n",
       "             param_grid={'C': [0.001, 10.0],\n",
       "                         'kernel': ['rbf', 'poly', 'linear']},\n",
       "             verbose=2)"
      ]
     },
     "execution_count": 52,
     "metadata": {},
     "output_type": "execute_result"
    }
   ],
   "source": [
    "%time  grid_search_MC.fit(X, y)"
   ]
  },
  {
   "cell_type": "code",
   "execution_count": 53,
   "id": "078b379a",
   "metadata": {},
   "outputs": [
    {
     "data": {
      "text/plain": [
       "({'C': 10.0, 'kernel': 'rbf'}, 0.9387000000000001)"
      ]
     },
     "execution_count": 53,
     "metadata": {},
     "output_type": "execute_result"
    }
   ],
   "source": [
    "grid_search_MC.best_params_, grid_search_MC.best_score_"
   ]
  },
  {
   "cell_type": "markdown",
   "id": "3d3f4e8a",
   "metadata": {},
   "source": [
    "## Task 6. Parallelism with Dask\n",
    "\n",
    "We have a local cluster called client running in this notebook already - we will use that for parallelism."
   ]
  },
  {
   "cell_type": "code",
   "execution_count": 54,
   "id": "694358b1",
   "metadata": {},
   "outputs": [],
   "source": [
    "import joblib"
   ]
  },
  {
   "cell_type": "code",
   "execution_count": 55,
   "id": "a61586b7",
   "metadata": {},
   "outputs": [],
   "source": [
    "param_grid = {\n",
    "    'C': [0.001, 0.1, 1.0, 2.5, 5., 10.0, 100., 500., 1000.],\n",
    "    # Uncomment below two lines to perform larger Grid searches on a cluster\n",
    "    #'kernel': ['rbf', 'poly', 'linear'],\n",
    "    #'shrinking': [True, False],\n",
    "}"
   ]
  },
  {
   "cell_type": "code",
   "execution_count": 56,
   "id": "ad979610",
   "metadata": {},
   "outputs": [],
   "source": [
    "grid_search_Dist = GridSearchCV(estimator, \n",
    "                                param_grid, \n",
    "                                verbose=2, \n",
    "                                cv=2, \n",
    "                                n_jobs=-1)"
   ]
  },
  {
   "cell_type": "code",
   "execution_count": 57,
   "id": "81c97a50",
   "metadata": {},
   "outputs": [
    {
     "name": "stdout",
     "output_type": "stream",
     "text": [
      "Fitting 2 folds for each of 9 candidates, totalling 18 fits\n",
      "Wall time: 28.3 s\n"
     ]
    }
   ],
   "source": [
    "%%time\n",
    "\n",
    "with joblib.parallel_backend(\"dask\"):\n",
    "    grid_search_Dist.fit(X, y)"
   ]
  },
  {
   "cell_type": "code",
   "execution_count": 58,
   "id": "dd1205ee",
   "metadata": {
    "scrolled": true
   },
   "outputs": [
    {
     "data": {
      "text/html": [
       "<div>\n",
       "<style scoped>\n",
       "    .dataframe tbody tr th:only-of-type {\n",
       "        vertical-align: middle;\n",
       "    }\n",
       "\n",
       "    .dataframe tbody tr th {\n",
       "        vertical-align: top;\n",
       "    }\n",
       "\n",
       "    .dataframe thead th {\n",
       "        text-align: right;\n",
       "    }\n",
       "</style>\n",
       "<table border=\"1\" class=\"dataframe\">\n",
       "  <thead>\n",
       "    <tr style=\"text-align: right;\">\n",
       "      <th></th>\n",
       "      <th>mean_fit_time</th>\n",
       "      <th>std_fit_time</th>\n",
       "      <th>mean_score_time</th>\n",
       "      <th>std_score_time</th>\n",
       "      <th>param_C</th>\n",
       "      <th>params</th>\n",
       "      <th>split0_test_score</th>\n",
       "      <th>split1_test_score</th>\n",
       "      <th>mean_test_score</th>\n",
       "      <th>std_test_score</th>\n",
       "      <th>rank_test_score</th>\n",
       "    </tr>\n",
       "  </thead>\n",
       "  <tbody>\n",
       "    <tr>\n",
       "      <th>0</th>\n",
       "      <td>9.870254</td>\n",
       "      <td>0.700430</td>\n",
       "      <td>2.356912</td>\n",
       "      <td>0.367291</td>\n",
       "      <td>0.001</td>\n",
       "      <td>{'C': 0.001}</td>\n",
       "      <td>0.8938</td>\n",
       "      <td>0.8916</td>\n",
       "      <td>0.8927</td>\n",
       "      <td>0.0011</td>\n",
       "      <td>9</td>\n",
       "    </tr>\n",
       "    <tr>\n",
       "      <th>1</th>\n",
       "      <td>2.343052</td>\n",
       "      <td>0.030012</td>\n",
       "      <td>0.932883</td>\n",
       "      <td>0.099679</td>\n",
       "      <td>0.1</td>\n",
       "      <td>{'C': 0.1}</td>\n",
       "      <td>0.9338</td>\n",
       "      <td>0.9296</td>\n",
       "      <td>0.9317</td>\n",
       "      <td>0.0021</td>\n",
       "      <td>8</td>\n",
       "    </tr>\n",
       "    <tr>\n",
       "      <th>2</th>\n",
       "      <td>1.953525</td>\n",
       "      <td>0.022087</td>\n",
       "      <td>0.635823</td>\n",
       "      <td>0.081279</td>\n",
       "      <td>1.0</td>\n",
       "      <td>{'C': 1.0}</td>\n",
       "      <td>0.9378</td>\n",
       "      <td>0.9346</td>\n",
       "      <td>0.9362</td>\n",
       "      <td>0.0016</td>\n",
       "      <td>7</td>\n",
       "    </tr>\n",
       "    <tr>\n",
       "      <th>3</th>\n",
       "      <td>2.042307</td>\n",
       "      <td>0.039618</td>\n",
       "      <td>0.589942</td>\n",
       "      <td>0.049826</td>\n",
       "      <td>2.5</td>\n",
       "      <td>{'C': 2.5}</td>\n",
       "      <td>0.9396</td>\n",
       "      <td>0.9360</td>\n",
       "      <td>0.9378</td>\n",
       "      <td>0.0018</td>\n",
       "      <td>6</td>\n",
       "    </tr>\n",
       "    <tr>\n",
       "      <th>4</th>\n",
       "      <td>2.074069</td>\n",
       "      <td>0.187682</td>\n",
       "      <td>0.638106</td>\n",
       "      <td>0.081030</td>\n",
       "      <td>5.0</td>\n",
       "      <td>{'C': 5.0}</td>\n",
       "      <td>0.9406</td>\n",
       "      <td>0.9360</td>\n",
       "      <td>0.9383</td>\n",
       "      <td>0.0023</td>\n",
       "      <td>5</td>\n",
       "    </tr>\n",
       "  </tbody>\n",
       "</table>\n",
       "</div>"
      ],
      "text/plain": [
       "   mean_fit_time  std_fit_time  mean_score_time  std_score_time param_C  \\\n",
       "0       9.870254      0.700430         2.356912        0.367291   0.001   \n",
       "1       2.343052      0.030012         0.932883        0.099679     0.1   \n",
       "2       1.953525      0.022087         0.635823        0.081279     1.0   \n",
       "3       2.042307      0.039618         0.589942        0.049826     2.5   \n",
       "4       2.074069      0.187682         0.638106        0.081030     5.0   \n",
       "\n",
       "         params  split0_test_score  split1_test_score  mean_test_score  \\\n",
       "0  {'C': 0.001}             0.8938             0.8916           0.8927   \n",
       "1    {'C': 0.1}             0.9338             0.9296           0.9317   \n",
       "2    {'C': 1.0}             0.9378             0.9346           0.9362   \n",
       "3    {'C': 2.5}             0.9396             0.9360           0.9378   \n",
       "4    {'C': 5.0}             0.9406             0.9360           0.9383   \n",
       "\n",
       "   std_test_score  rank_test_score  \n",
       "0          0.0011                9  \n",
       "1          0.0021                8  \n",
       "2          0.0016                7  \n",
       "3          0.0018                6  \n",
       "4          0.0023                5  "
      ]
     },
     "execution_count": 58,
     "metadata": {},
     "output_type": "execute_result"
    }
   ],
   "source": [
    "pd.DataFrame(grid_search_Dist.cv_results_).head()"
   ]
  },
  {
   "cell_type": "code",
   "execution_count": 59,
   "id": "65396564",
   "metadata": {
    "scrolled": true
   },
   "outputs": [
    {
     "data": {
      "text/plain": [
       "({'C': 500.0}, 0.9393)"
      ]
     },
     "execution_count": 59,
     "metadata": {},
     "output_type": "execute_result"
    }
   ],
   "source": [
    "grid_search_Dist.best_params_, grid_search_Dist.best_score_"
   ]
  },
  {
   "cell_type": "code",
   "execution_count": 60,
   "id": "f8d8dd94",
   "metadata": {},
   "outputs": [],
   "source": [
    "# let us obtain predicted values\n",
    "y_pred = grid_search_Dist.predict(X)"
   ]
  },
  {
   "cell_type": "code",
   "execution_count": 61,
   "id": "7c43098b",
   "metadata": {},
   "outputs": [
    {
     "name": "stdout",
     "output_type": "stream",
     "text": [
      "              precision    recall  f1-score   support\n",
      "\n",
      "           0       0.96      0.92      0.94      5000\n",
      "           1       0.92      0.96      0.94      5000\n",
      "\n",
      "    accuracy                           0.94     10000\n",
      "   macro avg       0.94      0.94      0.94     10000\n",
      "weighted avg       0.94      0.94      0.94     10000\n",
      "\n"
     ]
    }
   ],
   "source": [
    "# use an alternate performance measure. \n",
    "# sklearn.metrics.classification_report provides a sumamry of several measures\n",
    "\n",
    "from sklearn.metrics import classification_report\n",
    "\n",
    "print(classification_report(y, y_pred))"
   ]
  },
  {
   "cell_type": "markdown",
   "id": "9662add0",
   "metadata": {},
   "source": [
    "## Task 7. Close the Client"
   ]
  },
  {
   "cell_type": "code",
   "execution_count": 62,
   "id": "fc732715",
   "metadata": {},
   "outputs": [
    {
     "name": "stderr",
     "output_type": "stream",
     "text": [
      "2023-02-16 14:24:30,991 - distributed.client - ERROR - Failed to reconnect to scheduler after 30.00 seconds, closing client\n"
     ]
    }
   ],
   "source": [
    "client.shutdown()"
   ]
  },
  {
   "cell_type": "markdown",
   "id": "6df59acc",
   "metadata": {},
   "source": [
    "# THE END"
   ]
  }
 ],
 "metadata": {
  "kernelspec": {
   "display_name": "Python 3 (ipykernel)",
   "language": "python",
   "name": "python3"
  },
  "language_info": {
   "codemirror_mode": {
    "name": "ipython",
    "version": 3
   },
   "file_extension": ".py",
   "mimetype": "text/x-python",
   "name": "python",
   "nbconvert_exporter": "python",
   "pygments_lexer": "ipython3",
   "version": "3.9.16"
  },
  "toc": {
   "base_numbering": 1,
   "nav_menu": {},
   "number_sections": false,
   "sideBar": true,
   "skip_h1_title": false,
   "title_cell": "Table of Contents",
   "title_sidebar": "Table of Contents",
   "toc_cell": false,
   "toc_position": {
    "height": "calc(100% - 180px)",
    "left": "10px",
    "top": "150px",
    "width": "165px"
   },
   "toc_section_display": true,
   "toc_window_display": true
  },
  "varInspector": {
   "cols": {
    "lenName": 16,
    "lenType": 16,
    "lenVar": 40
   },
   "kernels_config": {
    "python": {
     "delete_cmd_postfix": "",
     "delete_cmd_prefix": "del ",
     "library": "var_list.py",
     "varRefreshCmd": "print(var_dic_list())"
    },
    "r": {
     "delete_cmd_postfix": ") ",
     "delete_cmd_prefix": "rm(",
     "library": "var_list.r",
     "varRefreshCmd": "cat(var_dic_list()) "
    }
   },
   "types_to_exclude": [
    "module",
    "function",
    "builtin_function_or_method",
    "instance",
    "_Feature"
   ],
   "window_display": false
  }
 },
 "nbformat": 4,
 "nbformat_minor": 5
}
