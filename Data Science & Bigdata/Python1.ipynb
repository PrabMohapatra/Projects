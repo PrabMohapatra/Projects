{
 "cells": [
  {
   "cell_type": "markdown",
   "metadata": {},
   "source": [
    "# HOMEWORK 0 : Markdown\n",
    "\n",
    "## Completed by:  Enter your name here"
   ]
  },
  {
   "cell_type": "markdown",
   "metadata": {},
   "source": [
    "In this exercise, you will practice writing some Markdown. The file contains cells with instructions for tasks followed by an empty cell for you to practice writing Markdown. Answers for these tasks can be found in the Markdown slides. You will not get points for using HTML unless mentioned specifically."
   ]
  },
  {
   "cell_type": "markdown",
   "metadata": {},
   "source": [
    "## TASK 0. (1 point)"
   ]
  },
  {
   "cell_type": "markdown",
   "metadata": {},
   "source": [
    "Please write your name above (next to Completed By:), and be sure to do so for all assignments that your turn in from here on out (there are points assigned for this)."
   ]
  },
  {
   "cell_type": "markdown",
   "metadata": {},
   "source": [
    "## TASK 1. (3 points) "
   ]
  },
  {
   "cell_type": "markdown",
   "metadata": {},
   "source": [
    "Create 3 headings in decreasing font size. \n",
    "\n",
    "The first heading should be a level 1 heading, and should say: TITLE\n",
    "\n",
    "The second heading a level 2 heading, and should say: This is a markdown cell - it allows us to write formatted text within a Notebook.\n",
    "\n",
    "The 3rd heading is a level 3 heading, and should say: This is a smaller size font.\n",
    "\n",
    "Provide your answer in the following cell."
   ]
  },
  {
   "cell_type": "code",
   "execution_count": null,
   "metadata": {},
   "outputs": [],
   "source": []
  },
  {
   "cell_type": "markdown",
   "metadata": {},
   "source": [
    "## TASK 2. (3 points)"
   ]
  },
  {
   "cell_type": "markdown",
   "metadata": {},
   "source": [
    "Write three lines of text with an empty line between each. The first line should be in italic, the second should be in bold, and the third should be both bold and italic. The content of the lines is given below (without formatting).\n",
    "\n",
    "this text is in italic\n",
    "\n",
    "this text is bold\n",
    "\n",
    "this text is in italic and bold\n",
    "\n",
    "Provide your answer in the following cell."
   ]
  },
  {
   "cell_type": "code",
   "execution_count": null,
   "metadata": {
    "slideshow": {
     "slide_type": "slide"
    }
   },
   "outputs": [],
   "source": []
  },
  {
   "cell_type": "markdown",
   "metadata": {},
   "source": [
    "## TASK 3. (2 points)"
   ]
  },
  {
   "cell_type": "markdown",
   "metadata": {},
   "source": [
    "Write two lines with no extra line between them.\n",
    "\n",
    "The content of the first line is: This is just regular text.\n",
    "The word regular in the above line should be bold and italic (in markdown)\n",
    "\n",
    "The content of the second line is: You can use Markdown syntax as well as some html in a Markdown cell.\n",
    "The word html should be bold, underlined and italicized using html tags (not markdown).\n",
    "\n",
    "Provide your answer in the following cell."
   ]
  },
  {
   "cell_type": "code",
   "execution_count": null,
   "metadata": {},
   "outputs": [],
   "source": []
  },
  {
   "cell_type": "markdown",
   "metadata": {},
   "source": [
    "## TASK 4. (2 points)"
   ]
  },
  {
   "cell_type": "markdown",
   "metadata": {},
   "source": [
    "Write two equations.\n",
    "The first line should contain only the equation: x + y = 10.\n",
    "\n",
    "Leave a line in between.\n",
    "\n",
    "The second line should say: The equation is a^2 + b = 25\n",
    "where the second equation should be displayed centered on its own line\n",
    "\n",
    "Provide your answer in the cell below."
   ]
  },
  {
   "cell_type": "code",
   "execution_count": null,
   "metadata": {
    "slideshow": {
     "slide_type": "slide"
    }
   },
   "outputs": [],
   "source": []
  },
  {
   "cell_type": "markdown",
   "metadata": {},
   "source": [
    "## TASK 5. (3 points)"
   ]
  },
  {
   "cell_type": "markdown",
   "metadata": {},
   "source": [
    "Write two lines.\n",
    "The first line includes a hyperlink to download Anaconda. The text should read: Please click on this link to download Anaconda.\n",
    "The word Anaconda in the above line should be a hyperlink to https://www.anaconda.com/distribution/.\n",
    "\n",
    "The second line should contain an internal link to the last cell of the file, which should contain 'THE END' in a level 2 heading.\n",
    "\n",
    "Provide your answer in the cell below."
   ]
  },
  {
   "cell_type": "code",
   "execution_count": null,
   "metadata": {
    "slideshow": {
     "slide_type": "slide"
    }
   },
   "outputs": [],
   "source": []
  },
  {
   "cell_type": "markdown",
   "metadata": {},
   "source": [
    "## TASK 6a. (2.5 points)"
   ]
  },
  {
   "cell_type": "markdown",
   "metadata": {},
   "source": [
    "Create an ordered list with a level 3 heading: My List\n",
    "It contains 3 numbered elements: 1. jam, 2. butter, and 3. bread\n",
    "Create two sublist items for butter (2.1 salted and 2.2 unsalted- each on a separate line).\n",
    "Each main item and the two sublist items should appear on different lines.\n",
    "\n",
    "Provide your answer in the cell below."
   ]
  },
  {
   "cell_type": "code",
   "execution_count": null,
   "metadata": {
    "slideshow": {
     "slide_type": "fragment"
    }
   },
   "outputs": [],
   "source": []
  },
  {
   "cell_type": "markdown",
   "metadata": {},
   "source": [
    "## TASK 6b. (2 points)"
   ]
  },
  {
   "cell_type": "markdown",
   "metadata": {},
   "source": [
    "Create an unordered list with 3 items and 2 sublist-items for the second item:\n",
    "first item, second item (two sub-items: second-one and second-two), third item\n",
    "\n",
    "Provide your answer in the cell below."
   ]
  },
  {
   "cell_type": "code",
   "execution_count": null,
   "metadata": {
    "slideshow": {
     "slide_type": "fragment"
    }
   },
   "outputs": [],
   "source": []
  },
  {
   "cell_type": "markdown",
   "metadata": {},
   "source": [
    "## TASK 7. (2.5 points)"
   ]
  },
  {
   "cell_type": "markdown",
   "metadata": {},
   "source": [
    "Write a quote you like. \n",
    "Use a level 3 heading for the title whoch should say: A Quote I like.\n",
    "Use level 1 blockquote to print the text of the quote.\n",
    "Use level 2 blockquote to print the source of author of your quote.\n",
    "\n",
    "Provide your answer in the cell below."
   ]
  },
  {
   "cell_type": "code",
   "execution_count": null,
   "metadata": {},
   "outputs": [],
   "source": []
  },
  {
   "cell_type": "markdown",
   "metadata": {},
   "source": [
    "## TASK 8. (2 points)"
   ]
  },
  {
   "cell_type": "markdown",
   "metadata": {},
   "source": [
    "Write Markdown to produce the output in the following cell (see image in expected output file if it doesnt show here - to see it download the associated image task8.jpg to the same folder as this notebook).\n",
    "The first is a span of code, and the second lines is printed as a code block.\n",
    "\n",
    "Provide your answer in the empty cell below."
   ]
  },
  {
   "cell_type": "markdown",
   "metadata": {
    "slideshow": {
     "slide_type": "slide"
    }
   },
   "source": [
    "![solution](task8.jpg)"
   ]
  },
  {
   "cell_type": "code",
   "execution_count": null,
   "metadata": {},
   "outputs": [],
   "source": []
  },
  {
   "cell_type": "markdown",
   "metadata": {},
   "source": [
    "## TASK 9. (1 point)"
   ]
  },
  {
   "cell_type": "markdown",
   "metadata": {},
   "source": [
    "Print your first name in bold and between a pair of asterisks.\n",
    "\n",
    "Provide your answer in the cell below."
   ]
  },
  {
   "cell_type": "code",
   "execution_count": null,
   "metadata": {},
   "outputs": [],
   "source": []
  },
  {
   "cell_type": "markdown",
   "metadata": {},
   "source": [
    "## TASK 10. (1 point)"
   ]
  },
  {
   "cell_type": "markdown",
   "metadata": {},
   "source": [
    "Draw  a horizontal rule.\n",
    "\n",
    "Provide your answer in the cell below."
   ]
  },
  {
   "cell_type": "code",
   "execution_count": null,
   "metadata": {},
   "outputs": [],
   "source": []
  },
  {
   "cell_type": "raw",
   "metadata": {},
   "source": [
    "THE END"
   ]
  }
 ],
 "metadata": {
  "hide_input": false,
  "kernelspec": {
   "display_name": "Python 3 (ipykernel)",
   "language": "python",
   "name": "python3"
  },
  "language_info": {
   "codemirror_mode": {
    "name": "ipython",
    "version": 3
   },
   "file_extension": ".py",
   "mimetype": "text/x-python",
   "name": "python",
   "nbconvert_exporter": "python",
   "pygments_lexer": "ipython3",
   "version": "3.8.12"
  },
  "toc": {
   "base_numbering": "",
   "nav_menu": {},
   "number_sections": false,
   "sideBar": true,
   "skip_h1_title": false,
   "title_cell": "Table of Contents",
   "title_sidebar": "Contents",
   "toc_cell": false,
   "toc_position": {
    "height": "calc(100% - 180px)",
    "left": "10px",
    "top": "150px",
    "width": "165px"
   },
   "toc_section_display": true,
   "toc_window_display": false
  },
  "varInspector": {
   "cols": {
    "lenName": 16,
    "lenType": 16,
    "lenVar": 40
   },
   "kernels_config": {
    "python": {
     "delete_cmd_postfix": "",
     "delete_cmd_prefix": "del ",
     "library": "var_list.py",
     "varRefreshCmd": "print(var_dic_list())"
    },
    "r": {
     "delete_cmd_postfix": ") ",
     "delete_cmd_prefix": "rm(",
     "library": "var_list.r",
     "varRefreshCmd": "cat(var_dic_list()) "
    }
   },
   "position": {
    "height": "470.35px",
    "left": "2117px",
    "right": "20px",
    "top": "176px",
    "width": "500.5px"
   },
   "types_to_exclude": [
    "module",
    "function",
    "builtin_function_or_method",
    "instance",
    "_Feature"
   ],
   "window_display": false
  }
 },
 "nbformat": 4,
 "nbformat_minor": 4
}
